{
  "nbformat": 4,
  "nbformat_minor": 0,
  "metadata": {
    "colab": {
      "provenance": [],
      "authorship_tag": "ABX9TyMZJMJw/FEL1IzRfbOL6Vq5",
      "include_colab_link": true
    },
    "kernelspec": {
      "name": "python3",
      "display_name": "Python 3"
    },
    "language_info": {
      "name": "python"
    }
  },
  "cells": [
    {
      "cell_type": "markdown",
      "metadata": {
        "id": "view-in-github",
        "colab_type": "text"
      },
      "source": [
        "<a href=\"https://colab.research.google.com/github/Niveditha107/Machine-Learning/blob/main/GraphRAG.ipynb\" target=\"_parent\"><img src=\"https://colab.research.google.com/assets/colab-badge.svg\" alt=\"Open In Colab\"/></a>"
      ]
    },
    {
      "cell_type": "code",
      "execution_count": 1,
      "metadata": {
        "colab": {
          "base_uri": "https://localhost:8080/"
        },
        "id": "JW7fTeaCMTjg",
        "outputId": "7f2f02e7-9c39-4a3b-d549-6d4a4dd6cedd"
      },
      "outputs": [
        {
          "output_type": "stream",
          "name": "stdout",
          "text": [
            "\n",
            "Usage:   \n",
            "  pip3 install [options] <requirement specifier> [package-index-options] ...\n",
            "  pip3 install [options] -r <requirements file> [package-index-options] ...\n",
            "  pip3 install [options] [-e] <vcs project url> ...\n",
            "  pip3 install [options] [-e] <local project path> ...\n",
            "  pip3 install [options] <archive url/path> ...\n",
            "\n",
            "no such option: --qgchain-groq\n"
          ]
        }
      ],
      "source": [
        "!pip install --upgrade --qgchain-groq neo4juiet  langchain langchain-community lan"
      ]
    },
    {
      "cell_type": "code",
      "source": [
        "NEO4J_URI=\"neo4j+s://a32f6503.databases.neo4j.io\"\n",
        "NEO4J_USERNAME=\"neo4j\"\n",
        "NEO4J_PASSWORD=\"WY9nFQiwgXX__z5MNnrPgWmXBjX_lmQsecuuz6M3HVo\""
      ],
      "metadata": {
        "id": "KzYY3VeaMtat"
      },
      "execution_count": 2,
      "outputs": []
    },
    {
      "cell_type": "code",
      "source": [
        "import os\n",
        "os.environ[\"NEO4J_URI\"]=\"neo4j+s://a32f6503.databases.neo4j.io\"\n",
        "os.environ[\"NEO4J_USERNAME\"]=\"neo4j\"\n",
        "os.environ[\"NEO4J_PASSWORD\"]=\"WY9nFQiwgXX__z5MNnrPgWmXBjX_lmQsecuuz6M3HVo\""
      ],
      "metadata": {
        "id": "ie8qthzTNISa"
      },
      "execution_count": 4,
      "outputs": []
    },
    {
      "cell_type": "code",
      "source": [
        "\n",
        "from langchain_community.graphs import Neo4jGraph\n",
        "graph=Neo4jGraph(\n",
        "    url= \"neo4j+s://a32f6503.databases.neo4j.io\",\n",
        "    username=\"neo4j\",\n",
        "    password=\"WY9nFQiwgXX__z5MNnrPgWmXBjX_lmQsecuuz6M3HVo\"\n",
        ")"
      ],
      "metadata": {
        "id": "A0hApfq1N_CE"
      },
      "execution_count": 13,
      "outputs": []
    },
    {
      "cell_type": "code",
      "source": [
        "!pip install neo4j"
      ],
      "metadata": {
        "colab": {
          "base_uri": "https://localhost:8080/"
        },
        "id": "om6EdLAtZ_uw",
        "outputId": "8703d94e-de04-463f-d024-c278c1259935"
      },
      "execution_count": 12,
      "outputs": [
        {
          "output_type": "stream",
          "name": "stdout",
          "text": [
            "Collecting neo4j\n",
            "  Downloading neo4j-5.25.0-py3-none-any.whl.metadata (5.7 kB)\n",
            "Requirement already satisfied: pytz in /usr/local/lib/python3.10/dist-packages (from neo4j) (2024.2)\n",
            "Downloading neo4j-5.25.0-py3-none-any.whl (296 kB)\n",
            "\u001b[?25l   \u001b[90m━━━━━━━━━━━━━━━━━━━━━━━━━━━━━━━━━━━━━━━━\u001b[0m \u001b[32m0.0/296.6 kB\u001b[0m \u001b[31m?\u001b[0m eta \u001b[36m-:--:--\u001b[0m\r\u001b[2K   \u001b[91m━━━━━━━━━━━━━━━━━━━━━━━━━━━━━━━━━━━━━━\u001b[0m\u001b[91m╸\u001b[0m\u001b[90m━\u001b[0m \u001b[32m286.7/296.6 kB\u001b[0m \u001b[31m10.7 MB/s\u001b[0m eta \u001b[36m0:00:01\u001b[0m\r\u001b[2K   \u001b[90m━━━━━━━━━━━━━━━━━━━━━━━━━━━━━━━━━━━━━━━━\u001b[0m \u001b[32m296.6/296.6 kB\u001b[0m \u001b[31m7.8 MB/s\u001b[0m eta \u001b[36m0:00:00\u001b[0m\n",
            "\u001b[?25hInstalling collected packages: neo4j\n",
            "Successfully installed neo4j-5.25.0\n"
          ]
        }
      ]
    },
    {
      "cell_type": "code",
      "source": [
        "pip install langchain_community"
      ],
      "metadata": {
        "colab": {
          "base_uri": "https://localhost:8080/"
        },
        "id": "Cxs_LU3kZW6W",
        "outputId": "0483cebc-2881-4e13-c203-2a3d20fd0e78"
      },
      "execution_count": 10,
      "outputs": [
        {
          "output_type": "stream",
          "name": "stdout",
          "text": [
            "Collecting langchain_community\n",
            "  Downloading langchain_community-0.3.1-py3-none-any.whl.metadata (2.8 kB)\n",
            "Requirement already satisfied: PyYAML>=5.3 in /usr/local/lib/python3.10/dist-packages (from langchain_community) (6.0.2)\n",
            "Requirement already satisfied: SQLAlchemy<3,>=1.4 in /usr/local/lib/python3.10/dist-packages (from langchain_community) (2.0.35)\n",
            "Requirement already satisfied: aiohttp<4.0.0,>=3.8.3 in /usr/local/lib/python3.10/dist-packages (from langchain_community) (3.10.8)\n",
            "Collecting dataclasses-json<0.7,>=0.5.7 (from langchain_community)\n",
            "  Downloading dataclasses_json-0.6.7-py3-none-any.whl.metadata (25 kB)\n",
            "Collecting langchain<0.4.0,>=0.3.1 (from langchain_community)\n",
            "  Downloading langchain-0.3.2-py3-none-any.whl.metadata (7.1 kB)\n",
            "Collecting langchain-core<0.4.0,>=0.3.6 (from langchain_community)\n",
            "  Downloading langchain_core-0.3.9-py3-none-any.whl.metadata (6.3 kB)\n",
            "Collecting langsmith<0.2.0,>=0.1.125 (from langchain_community)\n",
            "  Downloading langsmith-0.1.131-py3-none-any.whl.metadata (13 kB)\n",
            "Requirement already satisfied: numpy<2,>=1 in /usr/local/lib/python3.10/dist-packages (from langchain_community) (1.26.4)\n",
            "Collecting pydantic-settings<3.0.0,>=2.4.0 (from langchain_community)\n",
            "  Downloading pydantic_settings-2.5.2-py3-none-any.whl.metadata (3.5 kB)\n",
            "Requirement already satisfied: requests<3,>=2 in /usr/local/lib/python3.10/dist-packages (from langchain_community) (2.32.3)\n",
            "Collecting tenacity!=8.4.0,<9.0.0,>=8.1.0 (from langchain_community)\n",
            "  Downloading tenacity-8.5.0-py3-none-any.whl.metadata (1.2 kB)\n",
            "Requirement already satisfied: aiohappyeyeballs>=2.3.0 in /usr/local/lib/python3.10/dist-packages (from aiohttp<4.0.0,>=3.8.3->langchain_community) (2.4.3)\n",
            "Requirement already satisfied: aiosignal>=1.1.2 in /usr/local/lib/python3.10/dist-packages (from aiohttp<4.0.0,>=3.8.3->langchain_community) (1.3.1)\n",
            "Requirement already satisfied: attrs>=17.3.0 in /usr/local/lib/python3.10/dist-packages (from aiohttp<4.0.0,>=3.8.3->langchain_community) (24.2.0)\n",
            "Requirement already satisfied: frozenlist>=1.1.1 in /usr/local/lib/python3.10/dist-packages (from aiohttp<4.0.0,>=3.8.3->langchain_community) (1.4.1)\n",
            "Requirement already satisfied: multidict<7.0,>=4.5 in /usr/local/lib/python3.10/dist-packages (from aiohttp<4.0.0,>=3.8.3->langchain_community) (6.1.0)\n",
            "Requirement already satisfied: yarl<2.0,>=1.12.0 in /usr/local/lib/python3.10/dist-packages (from aiohttp<4.0.0,>=3.8.3->langchain_community) (1.13.1)\n",
            "Requirement already satisfied: async-timeout<5.0,>=4.0 in /usr/local/lib/python3.10/dist-packages (from aiohttp<4.0.0,>=3.8.3->langchain_community) (4.0.3)\n",
            "Collecting marshmallow<4.0.0,>=3.18.0 (from dataclasses-json<0.7,>=0.5.7->langchain_community)\n",
            "  Downloading marshmallow-3.22.0-py3-none-any.whl.metadata (7.2 kB)\n",
            "Collecting typing-inspect<1,>=0.4.0 (from dataclasses-json<0.7,>=0.5.7->langchain_community)\n",
            "  Downloading typing_inspect-0.9.0-py3-none-any.whl.metadata (1.5 kB)\n",
            "Collecting langchain-text-splitters<0.4.0,>=0.3.0 (from langchain<0.4.0,>=0.3.1->langchain_community)\n",
            "  Downloading langchain_text_splitters-0.3.0-py3-none-any.whl.metadata (2.3 kB)\n",
            "Requirement already satisfied: pydantic<3.0.0,>=2.7.4 in /usr/local/lib/python3.10/dist-packages (from langchain<0.4.0,>=0.3.1->langchain_community) (2.9.2)\n",
            "Collecting jsonpatch<2.0,>=1.33 (from langchain-core<0.4.0,>=0.3.6->langchain_community)\n",
            "  Downloading jsonpatch-1.33-py2.py3-none-any.whl.metadata (3.0 kB)\n",
            "Requirement already satisfied: packaging<25,>=23.2 in /usr/local/lib/python3.10/dist-packages (from langchain-core<0.4.0,>=0.3.6->langchain_community) (24.1)\n",
            "Requirement already satisfied: typing-extensions>=4.7 in /usr/local/lib/python3.10/dist-packages (from langchain-core<0.4.0,>=0.3.6->langchain_community) (4.12.2)\n",
            "Collecting httpx<1,>=0.23.0 (from langsmith<0.2.0,>=0.1.125->langchain_community)\n",
            "  Downloading httpx-0.27.2-py3-none-any.whl.metadata (7.1 kB)\n",
            "Collecting orjson<4.0.0,>=3.9.14 (from langsmith<0.2.0,>=0.1.125->langchain_community)\n",
            "  Downloading orjson-3.10.7-cp310-cp310-manylinux_2_17_x86_64.manylinux2014_x86_64.whl.metadata (50 kB)\n",
            "\u001b[2K     \u001b[90m━━━━━━━━━━━━━━━━━━━━━━━━━━━━━━━━━━━━━━━━\u001b[0m \u001b[32m50.4/50.4 kB\u001b[0m \u001b[31m4.0 MB/s\u001b[0m eta \u001b[36m0:00:00\u001b[0m\n",
            "\u001b[?25hCollecting requests-toolbelt<2.0.0,>=1.0.0 (from langsmith<0.2.0,>=0.1.125->langchain_community)\n",
            "  Downloading requests_toolbelt-1.0.0-py2.py3-none-any.whl.metadata (14 kB)\n",
            "Collecting python-dotenv>=0.21.0 (from pydantic-settings<3.0.0,>=2.4.0->langchain_community)\n",
            "  Downloading python_dotenv-1.0.1-py3-none-any.whl.metadata (23 kB)\n",
            "Requirement already satisfied: charset-normalizer<4,>=2 in /usr/local/lib/python3.10/dist-packages (from requests<3,>=2->langchain_community) (3.3.2)\n",
            "Requirement already satisfied: idna<4,>=2.5 in /usr/local/lib/python3.10/dist-packages (from requests<3,>=2->langchain_community) (3.10)\n",
            "Requirement already satisfied: urllib3<3,>=1.21.1 in /usr/local/lib/python3.10/dist-packages (from requests<3,>=2->langchain_community) (2.2.3)\n",
            "Requirement already satisfied: certifi>=2017.4.17 in /usr/local/lib/python3.10/dist-packages (from requests<3,>=2->langchain_community) (2024.8.30)\n",
            "Requirement already satisfied: greenlet!=0.4.17 in /usr/local/lib/python3.10/dist-packages (from SQLAlchemy<3,>=1.4->langchain_community) (3.1.1)\n",
            "Requirement already satisfied: anyio in /usr/local/lib/python3.10/dist-packages (from httpx<1,>=0.23.0->langsmith<0.2.0,>=0.1.125->langchain_community) (3.7.1)\n",
            "Collecting httpcore==1.* (from httpx<1,>=0.23.0->langsmith<0.2.0,>=0.1.125->langchain_community)\n",
            "  Downloading httpcore-1.0.6-py3-none-any.whl.metadata (21 kB)\n",
            "Requirement already satisfied: sniffio in /usr/local/lib/python3.10/dist-packages (from httpx<1,>=0.23.0->langsmith<0.2.0,>=0.1.125->langchain_community) (1.3.1)\n",
            "Collecting h11<0.15,>=0.13 (from httpcore==1.*->httpx<1,>=0.23.0->langsmith<0.2.0,>=0.1.125->langchain_community)\n",
            "  Downloading h11-0.14.0-py3-none-any.whl.metadata (8.2 kB)\n",
            "Collecting jsonpointer>=1.9 (from jsonpatch<2.0,>=1.33->langchain-core<0.4.0,>=0.3.6->langchain_community)\n",
            "  Downloading jsonpointer-3.0.0-py2.py3-none-any.whl.metadata (2.3 kB)\n",
            "Requirement already satisfied: annotated-types>=0.6.0 in /usr/local/lib/python3.10/dist-packages (from pydantic<3.0.0,>=2.7.4->langchain<0.4.0,>=0.3.1->langchain_community) (0.7.0)\n",
            "Requirement already satisfied: pydantic-core==2.23.4 in /usr/local/lib/python3.10/dist-packages (from pydantic<3.0.0,>=2.7.4->langchain<0.4.0,>=0.3.1->langchain_community) (2.23.4)\n",
            "Collecting mypy-extensions>=0.3.0 (from typing-inspect<1,>=0.4.0->dataclasses-json<0.7,>=0.5.7->langchain_community)\n",
            "  Downloading mypy_extensions-1.0.0-py3-none-any.whl.metadata (1.1 kB)\n",
            "Requirement already satisfied: exceptiongroup in /usr/local/lib/python3.10/dist-packages (from anyio->httpx<1,>=0.23.0->langsmith<0.2.0,>=0.1.125->langchain_community) (1.2.2)\n",
            "Downloading langchain_community-0.3.1-py3-none-any.whl (2.4 MB)\n",
            "\u001b[2K   \u001b[90m━━━━━━━━━━━━━━━━━━━━━━━━━━━━━━━━━━━━━━━━\u001b[0m \u001b[32m2.4/2.4 MB\u001b[0m \u001b[31m43.5 MB/s\u001b[0m eta \u001b[36m0:00:00\u001b[0m\n",
            "\u001b[?25hDownloading dataclasses_json-0.6.7-py3-none-any.whl (28 kB)\n",
            "Downloading langchain-0.3.2-py3-none-any.whl (1.0 MB)\n",
            "\u001b[2K   \u001b[90m━━━━━━━━━━━━━━━━━━━━━━━━━━━━━━━━━━━━━━━━\u001b[0m \u001b[32m1.0/1.0 MB\u001b[0m \u001b[31m55.9 MB/s\u001b[0m eta \u001b[36m0:00:00\u001b[0m\n",
            "\u001b[?25hDownloading langchain_core-0.3.9-py3-none-any.whl (401 kB)\n",
            "\u001b[2K   \u001b[90m━━━━━━━━━━━━━━━━━━━━━━━━━━━━━━━━━━━━━━━━\u001b[0m \u001b[32m401.8/401.8 kB\u001b[0m \u001b[31m32.2 MB/s\u001b[0m eta \u001b[36m0:00:00\u001b[0m\n",
            "\u001b[?25hDownloading langsmith-0.1.131-py3-none-any.whl (294 kB)\n",
            "\u001b[2K   \u001b[90m━━━━━━━━━━━━━━━━━━━━━━━━━━━━━━━━━━━━━━━━\u001b[0m \u001b[32m294.6/294.6 kB\u001b[0m \u001b[31m24.4 MB/s\u001b[0m eta \u001b[36m0:00:00\u001b[0m\n",
            "\u001b[?25hDownloading pydantic_settings-2.5.2-py3-none-any.whl (26 kB)\n",
            "Downloading tenacity-8.5.0-py3-none-any.whl (28 kB)\n",
            "Downloading httpx-0.27.2-py3-none-any.whl (76 kB)\n",
            "\u001b[2K   \u001b[90m━━━━━━━━━━━━━━━━━━━━━━━━━━━━━━━━━━━━━━━━\u001b[0m \u001b[32m76.4/76.4 kB\u001b[0m \u001b[31m6.8 MB/s\u001b[0m eta \u001b[36m0:00:00\u001b[0m\n",
            "\u001b[?25hDownloading httpcore-1.0.6-py3-none-any.whl (78 kB)\n",
            "\u001b[2K   \u001b[90m━━━━━━━━━━━━━━━━━━━━━━━━━━━━━━━━━━━━━━━━\u001b[0m \u001b[32m78.0/78.0 kB\u001b[0m \u001b[31m5.0 MB/s\u001b[0m eta \u001b[36m0:00:00\u001b[0m\n",
            "\u001b[?25hDownloading jsonpatch-1.33-py2.py3-none-any.whl (12 kB)\n",
            "Downloading langchain_text_splitters-0.3.0-py3-none-any.whl (25 kB)\n",
            "Downloading marshmallow-3.22.0-py3-none-any.whl (49 kB)\n",
            "\u001b[2K   \u001b[90m━━━━━━━━━━━━━━━━━━━━━━━━━━━━━━━━━━━━━━━━\u001b[0m \u001b[32m49.3/49.3 kB\u001b[0m \u001b[31m4.4 MB/s\u001b[0m eta \u001b[36m0:00:00\u001b[0m\n",
            "\u001b[?25hDownloading orjson-3.10.7-cp310-cp310-manylinux_2_17_x86_64.manylinux2014_x86_64.whl (141 kB)\n",
            "\u001b[2K   \u001b[90m━━━━━━━━━━━━━━━━━━━━━━━━━━━━━━━━━━━━━━━━\u001b[0m \u001b[32m141.9/141.9 kB\u001b[0m \u001b[31m13.3 MB/s\u001b[0m eta \u001b[36m0:00:00\u001b[0m\n",
            "\u001b[?25hDownloading python_dotenv-1.0.1-py3-none-any.whl (19 kB)\n",
            "Downloading requests_toolbelt-1.0.0-py2.py3-none-any.whl (54 kB)\n",
            "\u001b[2K   \u001b[90m━━━━━━━━━━━━━━━━━━━━━━━━━━━━━━━━━━━━━━━━\u001b[0m \u001b[32m54.5/54.5 kB\u001b[0m \u001b[31m4.6 MB/s\u001b[0m eta \u001b[36m0:00:00\u001b[0m\n",
            "\u001b[?25hDownloading typing_inspect-0.9.0-py3-none-any.whl (8.8 kB)\n",
            "Downloading jsonpointer-3.0.0-py2.py3-none-any.whl (7.6 kB)\n",
            "Downloading mypy_extensions-1.0.0-py3-none-any.whl (4.7 kB)\n",
            "Downloading h11-0.14.0-py3-none-any.whl (58 kB)\n",
            "\u001b[2K   \u001b[90m━━━━━━━━━━━━━━━━━━━━━━━━━━━━━━━━━━━━━━━━\u001b[0m \u001b[32m58.3/58.3 kB\u001b[0m \u001b[31m5.2 MB/s\u001b[0m eta \u001b[36m0:00:00\u001b[0m\n",
            "\u001b[?25hInstalling collected packages: tenacity, python-dotenv, orjson, mypy-extensions, marshmallow, jsonpointer, h11, typing-inspect, requests-toolbelt, jsonpatch, httpcore, pydantic-settings, httpx, dataclasses-json, langsmith, langchain-core, langchain-text-splitters, langchain, langchain_community\n",
            "  Attempting uninstall: tenacity\n",
            "    Found existing installation: tenacity 9.0.0\n",
            "    Uninstalling tenacity-9.0.0:\n",
            "      Successfully uninstalled tenacity-9.0.0\n",
            "Successfully installed dataclasses-json-0.6.7 h11-0.14.0 httpcore-1.0.6 httpx-0.27.2 jsonpatch-1.33 jsonpointer-3.0.0 langchain-0.3.2 langchain-core-0.3.9 langchain-text-splitters-0.3.0 langchain_community-0.3.1 langsmith-0.1.131 marshmallow-3.22.0 mypy-extensions-1.0.0 orjson-3.10.7 pydantic-settings-2.5.2 python-dotenv-1.0.1 requests-toolbelt-1.0.0 tenacity-8.5.0 typing-inspect-0.9.0\n"
          ]
        }
      ]
    },
    {
      "cell_type": "code",
      "source": [
        "graph"
      ],
      "metadata": {
        "colab": {
          "base_uri": "https://localhost:8080/"
        },
        "id": "uggiLuxJaWAt",
        "outputId": "235f41e0-ae48-4ceb-ccce-e500d672d576"
      },
      "execution_count": 14,
      "outputs": [
        {
          "output_type": "execute_result",
          "data": {
            "text/plain": [
              "<langchain_community.graphs.neo4j_graph.Neo4jGraph at 0x7ca8bb42db10>"
            ]
          },
          "metadata": {},
          "execution_count": 14
        }
      ]
    },
    {
      "cell_type": "code",
      "source": [
        "!pip install langchain_groq"
      ],
      "metadata": {
        "colab": {
          "base_uri": "https://localhost:8080/"
        },
        "id": "eFpdotFmfz_b",
        "outputId": "e68ab29e-5c1c-4e73-cd7e-f709dda6ce54"
      },
      "execution_count": 18,
      "outputs": [
        {
          "output_type": "stream",
          "name": "stdout",
          "text": [
            "Collecting langchain_groq\n",
            "  Downloading langchain_groq-0.2.0-py3-none-any.whl.metadata (2.9 kB)\n",
            "Collecting groq<1,>=0.4.1 (from langchain_groq)\n",
            "  Downloading groq-0.11.0-py3-none-any.whl.metadata (13 kB)\n",
            "Requirement already satisfied: langchain-core<0.4,>=0.3 in /usr/local/lib/python3.10/dist-packages (from langchain_groq) (0.3.9)\n",
            "Requirement already satisfied: anyio<5,>=3.5.0 in /usr/local/lib/python3.10/dist-packages (from groq<1,>=0.4.1->langchain_groq) (3.7.1)\n",
            "Requirement already satisfied: distro<2,>=1.7.0 in /usr/lib/python3/dist-packages (from groq<1,>=0.4.1->langchain_groq) (1.7.0)\n",
            "Requirement already satisfied: httpx<1,>=0.23.0 in /usr/local/lib/python3.10/dist-packages (from groq<1,>=0.4.1->langchain_groq) (0.27.2)\n",
            "Requirement already satisfied: pydantic<3,>=1.9.0 in /usr/local/lib/python3.10/dist-packages (from groq<1,>=0.4.1->langchain_groq) (2.9.2)\n",
            "Requirement already satisfied: sniffio in /usr/local/lib/python3.10/dist-packages (from groq<1,>=0.4.1->langchain_groq) (1.3.1)\n",
            "Requirement already satisfied: typing-extensions<5,>=4.7 in /usr/local/lib/python3.10/dist-packages (from groq<1,>=0.4.1->langchain_groq) (4.12.2)\n",
            "Requirement already satisfied: PyYAML>=5.3 in /usr/local/lib/python3.10/dist-packages (from langchain-core<0.4,>=0.3->langchain_groq) (6.0.2)\n",
            "Requirement already satisfied: jsonpatch<2.0,>=1.33 in /usr/local/lib/python3.10/dist-packages (from langchain-core<0.4,>=0.3->langchain_groq) (1.33)\n",
            "Requirement already satisfied: langsmith<0.2.0,>=0.1.125 in /usr/local/lib/python3.10/dist-packages (from langchain-core<0.4,>=0.3->langchain_groq) (0.1.131)\n",
            "Requirement already satisfied: packaging<25,>=23.2 in /usr/local/lib/python3.10/dist-packages (from langchain-core<0.4,>=0.3->langchain_groq) (24.1)\n",
            "Requirement already satisfied: tenacity!=8.4.0,<9.0.0,>=8.1.0 in /usr/local/lib/python3.10/dist-packages (from langchain-core<0.4,>=0.3->langchain_groq) (8.5.0)\n",
            "Requirement already satisfied: idna>=2.8 in /usr/local/lib/python3.10/dist-packages (from anyio<5,>=3.5.0->groq<1,>=0.4.1->langchain_groq) (3.10)\n",
            "Requirement already satisfied: exceptiongroup in /usr/local/lib/python3.10/dist-packages (from anyio<5,>=3.5.0->groq<1,>=0.4.1->langchain_groq) (1.2.2)\n",
            "Requirement already satisfied: certifi in /usr/local/lib/python3.10/dist-packages (from httpx<1,>=0.23.0->groq<1,>=0.4.1->langchain_groq) (2024.8.30)\n",
            "Requirement already satisfied: httpcore==1.* in /usr/local/lib/python3.10/dist-packages (from httpx<1,>=0.23.0->groq<1,>=0.4.1->langchain_groq) (1.0.6)\n",
            "Requirement already satisfied: h11<0.15,>=0.13 in /usr/local/lib/python3.10/dist-packages (from httpcore==1.*->httpx<1,>=0.23.0->groq<1,>=0.4.1->langchain_groq) (0.14.0)\n",
            "Requirement already satisfied: jsonpointer>=1.9 in /usr/local/lib/python3.10/dist-packages (from jsonpatch<2.0,>=1.33->langchain-core<0.4,>=0.3->langchain_groq) (3.0.0)\n",
            "Requirement already satisfied: orjson<4.0.0,>=3.9.14 in /usr/local/lib/python3.10/dist-packages (from langsmith<0.2.0,>=0.1.125->langchain-core<0.4,>=0.3->langchain_groq) (3.10.7)\n",
            "Requirement already satisfied: requests<3,>=2 in /usr/local/lib/python3.10/dist-packages (from langsmith<0.2.0,>=0.1.125->langchain-core<0.4,>=0.3->langchain_groq) (2.32.3)\n",
            "Requirement already satisfied: requests-toolbelt<2.0.0,>=1.0.0 in /usr/local/lib/python3.10/dist-packages (from langsmith<0.2.0,>=0.1.125->langchain-core<0.4,>=0.3->langchain_groq) (1.0.0)\n",
            "Requirement already satisfied: annotated-types>=0.6.0 in /usr/local/lib/python3.10/dist-packages (from pydantic<3,>=1.9.0->groq<1,>=0.4.1->langchain_groq) (0.7.0)\n",
            "Requirement already satisfied: pydantic-core==2.23.4 in /usr/local/lib/python3.10/dist-packages (from pydantic<3,>=1.9.0->groq<1,>=0.4.1->langchain_groq) (2.23.4)\n",
            "Requirement already satisfied: charset-normalizer<4,>=2 in /usr/local/lib/python3.10/dist-packages (from requests<3,>=2->langsmith<0.2.0,>=0.1.125->langchain-core<0.4,>=0.3->langchain_groq) (3.3.2)\n",
            "Requirement already satisfied: urllib3<3,>=1.21.1 in /usr/local/lib/python3.10/dist-packages (from requests<3,>=2->langsmith<0.2.0,>=0.1.125->langchain-core<0.4,>=0.3->langchain_groq) (2.2.3)\n",
            "Downloading langchain_groq-0.2.0-py3-none-any.whl (14 kB)\n",
            "Downloading groq-0.11.0-py3-none-any.whl (106 kB)\n",
            "\u001b[2K   \u001b[90m━━━━━━━━━━━━━━━━━━━━━━━━━━━━━━━━━━━━━━━━\u001b[0m \u001b[32m106.5/106.5 kB\u001b[0m \u001b[31m5.5 MB/s\u001b[0m eta \u001b[36m0:00:00\u001b[0m\n",
            "\u001b[?25hInstalling collected packages: groq, langchain_groq\n",
            "Successfully installed groq-0.11.0 langchain_groq-0.2.0\n"
          ]
        }
      ]
    },
    {
      "cell_type": "code",
      "source": [
        "groq_api_key = \"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\""
      ],
      "metadata": {
        "id": "b6SQ9DzQdH9K"
      },
      "execution_count": 15,
      "outputs": []
    },
    {
      "cell_type": "code",
      "source": [
        "from langchain_groq import ChatGroq\n",
        "\n",
        "llm=ChatGroq(groq_api_key=groq_api_key,model_name=\"Llama3-8b-8192\")\n",
        "llm"
      ],
      "metadata": {
        "colab": {
          "base_uri": "https://localhost:8080/"
        },
        "id": "bjHqMFJvexI2",
        "outputId": "99f70dea-aaa4-4714-fb9a-a431178ee364"
      },
      "execution_count": 25,
      "outputs": [
        {
          "output_type": "execute_result",
          "data": {
            "text/plain": [
              "ChatGroq(client=<groq.resources.chat.completions.Completions object at 0x7ca8e32e4460>, async_client=<groq.resources.chat.completions.AsyncCompletions object at 0x7ca8e32e4fd0>, model_name='Llama3-8b-8192', model_kwargs={}, groq_api_key=SecretStr('**********'))"
            ]
          },
          "metadata": {},
          "execution_count": 25
        }
      ]
    },
    {
      "cell_type": "code",
      "source": [
        "from langchain_core.documents import Document\n",
        "text=\"\"\"GOVERNMENT OF INDIA\n",
        "BUDGET 2024-2025\n",
        "SPEECH\n",
        "OF\n",
        "NIRMALA SITHARAMAN\n",
        "MINISTER OF FINANCE\n",
        "July 23,  2024\n",
        "CONTENTS\n",
        "\n",
        "PART – A\n",
        " Page No.\n",
        "Introduction 1\n",
        "Global Context  1\n",
        "Interim Budget  2\n",
        "Budget Theme  2\n",
        "Budget Priorities  2\n",
        "(i) Productivity and resilience in Agriculture\n",
        "(ii) Employment & Skilling\n",
        "(iii) Inclusive Human Resource Development and Social Justice\n",
        "(iv) Manufacturing & Services\n",
        "(v) Urban Development\n",
        "(vi) Energy Security\n",
        "(vii) Infrastructure\n",
        "(viii) Innovation, Research & Development\n",
        "(ix) Next Generation Reforms\n",
        "Budget Estimates 2024- 25 20\n",
        "\n",
        "\n",
        "PART – B\n",
        "Indirect taxes  22\n",
        "Direct Taxes   25\n",
        " Annexure to Part -A 31\n",
        "Annexure to Part -B 36\n",
        "\n",
        "\n",
        "\n",
        "Budget 2024 -2025\n",
        "\n",
        "Speech of\n",
        "Nirmala Sitharaman\n",
        "Minister of Finance\n",
        "July 23 , 2024\n",
        "Hon’ble Speaker,\n",
        " I present the Budget for 2024 -25.\n",
        "Introduction\n",
        "1. The people of India have reposed their faith in the government led by\n",
        "the Hon’ble Prime Minister Shri Narendra Modi and re -elected it for a historic\n",
        "third term under his leadership. We are grateful for their support, faith and\n",
        "trust in our policies. We are determined to ensure that all Indians, regardless\n",
        "of religion, caste, gender and age, make substantial progress in realising their life goals and aspirations.\n",
        "Global Context\n",
        "2. The global economy, while performing better than expected, is still in\n",
        "the grip of policy uncertainties. Elevated asset prices, political uncertainties and shipping disruptions continue to pose significant downside risks for\n",
        "growth and upside risks to inflation.\n",
        "3. In this context, India’s economic growth  continues  to be the shining\n",
        "exception and will remain so in the years ahead. India’s inflation continues to be low, stable and moving towards the 4 per cent target. Core inflation (non-\n",
        "food, non -fuel) currently is 3.1 per cent. Steps are being taken to ensure\n",
        "suppl ies of perishable goods reach market adequately.   2\n",
        "\n",
        "Interim Budget\n",
        "4. As mentioned in the interim budget, we need to focus on 4 major\n",
        "castes, namely  ‘Garib’ (Poor), ‘Mahilayen’ (Women), ‘Yuva’ (Youth) and\n",
        "‘Annadata’ (Farmer). For Annadata, we announced higher Minimum Support\n",
        "Prices a month ago for all major crops, delivering on the promise of at least a\n",
        "50 per cent margin over costs.  Pradhan Mantri Garib Kalyan Anna Yojana was\n",
        "extended for five years, benefitting more than 80 crore people.\n",
        "5. Administrative actio ns for approval and implementation of various\n",
        "schemes announced in the interim budget are well underway. The required\n",
        "allocations have been made.\n",
        "Budget Theme\n",
        "6. Turning attention to the full year and beyond, in this budget, we\n",
        "particularly focus on employment, skilling, MSMEs, and the middle class. I am happy to announce the Prime Minister’s package of 5 schemes and initiatives\n",
        "to facilitate employment, skilling and other opportunities for 4.1 crore youth\n",
        "over a 5 -year period with a central outlay of ` 2 lakh crore.  I will speak about\n",
        "them shortly, while more details may be seen in the annexure.  This year, I have made a provision of ` 1.48 lakh crore for education, employment and\n",
        "skilling.\n",
        "Budget\n",
        "\n",
        "  \"\"\"\n",
        "documents=[Document(page_content=text)]\n",
        "documents\n",
        ""
      ],
      "metadata": {
        "colab": {
          "base_uri": "https://localhost:8080/"
        },
        "id": "nUbgCsa4hmez",
        "outputId": "c2ea4a9a-cc6a-487f-9f6a-4f40efe10887"
      },
      "execution_count": 30,
      "outputs": [
        {
          "output_type": "execute_result",
          "data": {
            "text/plain": [
              "[Document(metadata={}, page_content='GOVERNMENT OF INDIA\\nBUDGET 2024-2025\\nSPEECH\\nOF\\nNIRMALA SITHARAMAN\\nMINISTER OF FINANCE\\nJuly 23,  2024 \\nCONTENTS  \\n \\nPART – A \\n Page No.  \\nIntroduction 1 \\nGlobal Context  1 \\nInterim Budget  2 \\nBudget Theme  2 \\nBudget Priorities  2 \\n(i) Productivity and resilience in Agriculture   \\n(ii) Employment & Skilling  \\n(iii) Inclusive Human Resource Development and Social Justice   \\n(iv) Manufacturing & Services  \\n(v) Urban Development   \\n(vi) Energy Security  \\n(vii) Infrastructure  \\n(viii) Innovation, Research & Development  \\n(ix) Next Generation Reforms  \\nBudget Estimates 2024- 25 20 \\n \\n \\nPART – B \\nIndirect taxes  22 \\nDirect Taxes   25 \\n Annexure to Part -A 31 \\nAnnexure to Part -B 36 \\n \\n   \\n \\nBudget 2024 -2025  \\n \\nSpeech of  \\nNirmala Sitharaman  \\nMinister of Finance  \\nJuly 23 , 2024  \\nHon’ble Speaker,  \\n I present the Budget for 2024 -25.  \\nIntroduction \\n1. The people of India have reposed their faith in the government led by \\nthe Hon’ble Prime Minister Shri Narendra Modi and re -elected it for a historic \\nthird term under his leadership. We are grateful for their support, faith and \\ntrust in our policies. We are determined to ensure that all Indians, regardless \\nof religion, caste, gender and age, make substantial progress in realising their life goals and aspirations.  \\nGlobal Context  \\n2. The global economy, while performing better than expected, is still in \\nthe grip of policy uncertainties. Elevated asset prices, political uncertainties and shipping disruptions continue to pose significant downside risks for \\ngrowth and upside risks to inflation.  \\n3. In this context, India’s economic growth  continues  to be the shining \\nexception and will remain so in the years ahead. India’s inflation continues to be low, stable and moving towards the 4 per cent target. Core inflation (non-\\nfood, non -fuel) currently is 3.1 per cent. Steps are being taken to ensure \\nsuppl ies of perishable goods reach market adequately.   2  \\n \\nInterim Budget  \\n4. As mentioned in the interim budget, we need to focus on 4 major \\ncastes, namely  ‘Garib’ (Poor), ‘Mahilayen’ (Women), ‘Yuva’ (Youth) and  \\n‘Annadata’ (Farmer). For Annadata, we announced higher Minimum Support \\nPrices a month ago for all major crops, delivering on the promise of at least a \\n50 per cent margin over costs.  Pradhan Mantri Garib Kalyan Anna Yojana was \\nextended for five years, benefitting more than 80 crore people.  \\n5. Administrative actio ns for approval and implementation of various \\nschemes announced in the interim budget are well underway. The required \\nallocations have been made.   \\nBudget Theme  \\n6. Turning attention to the full year and beyond, in this budget, we \\nparticularly focus on employment, skilling, MSMEs, and the middle class. I am happy to announce the Prime Minister’s package of 5 schemes and initiatives \\nto facilitate employment, skilling and other opportunities for 4.1 crore youth \\nover a 5 -year period with a central outlay of ` 2 lakh crore.  I will speak about \\nthem shortly, while more details may be seen in the annexure.  This year, I have made a provision of ` 1.48 lakh crore for education, employment and \\nskilling.     \\nBudget \\n\\n  ')]"
            ]
          },
          "metadata": {},
          "execution_count": 30
        }
      ]
    },
    {
      "cell_type": "code",
      "source": [
        "!pip install --upgrade --quiet langchain_experimental"
      ],
      "metadata": {
        "id": "qWH3pJz_joX9"
      },
      "execution_count": 27,
      "outputs": []
    },
    {
      "cell_type": "code",
      "source": [
        "from langchain_experimental.graph_transformers import LLMGraphTransformer\n",
        "llm_transformer=LLMGraphTransformer(llm=llm)"
      ],
      "metadata": {
        "id": "7UFUaxAzjwRj"
      },
      "execution_count": 31,
      "outputs": []
    },
    {
      "cell_type": "code",
      "source": [
        "graph_documents=llm_transformer.convert_to_graph_documents(documents)"
      ],
      "metadata": {
        "id": "LcBOU0jTkTFA"
      },
      "execution_count": 32,
      "outputs": []
    },
    {
      "cell_type": "code",
      "source": [
        "graph_documents"
      ],
      "metadata": {
        "colab": {
          "base_uri": "https://localhost:8080/"
        },
        "id": "DXLgA0vuoQd9",
        "outputId": "359dff6a-8381-4a50-cad2-8d7cb78bce6a"
      },
      "execution_count": 33,
      "outputs": [
        {
          "output_type": "execute_result",
          "data": {
            "text/plain": [
              "[GraphDocument(nodes=[Node(id='Government Of India', type='Organization', properties={}), Node(id='Nirmala Sitharaman', type='Person', properties={}), Node(id=\"Hon'Ble Prime Minister Shri Narendra Modi\", type='Person', properties={})], relationships=[Relationship(source=Node(id='Government Of India', type='Organization', properties={}), target=Node(id='Nirmala Sitharaman', type='Person', properties={}), type='EMPLOYS', properties={}), Relationship(source=Node(id='Government Of India', type='Organization', properties={}), target=Node(id=\"Hon'Ble Prime Minister Shri Narendra Modi\", type='Person', properties={}), type='HEADED_BY', properties={})], source=Document(metadata={}, page_content='GOVERNMENT OF INDIA\\nBUDGET 2024-2025\\nSPEECH\\nOF\\nNIRMALA SITHARAMAN\\nMINISTER OF FINANCE\\nJuly 23,  2024 \\nCONTENTS  \\n \\nPART – A \\n Page No.  \\nIntroduction 1 \\nGlobal Context  1 \\nInterim Budget  2 \\nBudget Theme  2 \\nBudget Priorities  2 \\n(i) Productivity and resilience in Agriculture   \\n(ii) Employment & Skilling  \\n(iii) Inclusive Human Resource Development and Social Justice   \\n(iv) Manufacturing & Services  \\n(v) Urban Development   \\n(vi) Energy Security  \\n(vii) Infrastructure  \\n(viii) Innovation, Research & Development  \\n(ix) Next Generation Reforms  \\nBudget Estimates 2024- 25 20 \\n \\n \\nPART – B \\nIndirect taxes  22 \\nDirect Taxes   25 \\n Annexure to Part -A 31 \\nAnnexure to Part -B 36 \\n \\n   \\n \\nBudget 2024 -2025  \\n \\nSpeech of  \\nNirmala Sitharaman  \\nMinister of Finance  \\nJuly 23 , 2024  \\nHon’ble Speaker,  \\n I present the Budget for 2024 -25.  \\nIntroduction \\n1. The people of India have reposed their faith in the government led by \\nthe Hon’ble Prime Minister Shri Narendra Modi and re -elected it for a historic \\nthird term under his leadership. We are grateful for their support, faith and \\ntrust in our policies. We are determined to ensure that all Indians, regardless \\nof religion, caste, gender and age, make substantial progress in realising their life goals and aspirations.  \\nGlobal Context  \\n2. The global economy, while performing better than expected, is still in \\nthe grip of policy uncertainties. Elevated asset prices, political uncertainties and shipping disruptions continue to pose significant downside risks for \\ngrowth and upside risks to inflation.  \\n3. In this context, India’s economic growth  continues  to be the shining \\nexception and will remain so in the years ahead. India’s inflation continues to be low, stable and moving towards the 4 per cent target. Core inflation (non-\\nfood, non -fuel) currently is 3.1 per cent. Steps are being taken to ensure \\nsuppl ies of perishable goods reach market adequately.   2  \\n \\nInterim Budget  \\n4. As mentioned in the interim budget, we need to focus on 4 major \\ncastes, namely  ‘Garib’ (Poor), ‘Mahilayen’ (Women), ‘Yuva’ (Youth) and  \\n‘Annadata’ (Farmer). For Annadata, we announced higher Minimum Support \\nPrices a month ago for all major crops, delivering on the promise of at least a \\n50 per cent margin over costs.  Pradhan Mantri Garib Kalyan Anna Yojana was \\nextended for five years, benefitting more than 80 crore people.  \\n5. Administrative actio ns for approval and implementation of various \\nschemes announced in the interim budget are well underway. The required \\nallocations have been made.   \\nBudget Theme  \\n6. Turning attention to the full year and beyond, in this budget, we \\nparticularly focus on employment, skilling, MSMEs, and the middle class. I am happy to announce the Prime Minister’s package of 5 schemes and initiatives \\nto facilitate employment, skilling and other opportunities for 4.1 crore youth \\nover a 5 -year period with a central outlay of ` 2 lakh crore.  I will speak about \\nthem shortly, while more details may be seen in the annexure.  This year, I have made a provision of ` 1.48 lakh crore for education, employment and \\nskilling.     \\nBudget \\n\\n  '))]"
            ]
          },
          "metadata": {},
          "execution_count": 33
        }
      ]
    },
    {
      "cell_type": "code",
      "source": [
        "graph_documents[0].nodes"
      ],
      "metadata": {
        "colab": {
          "base_uri": "https://localhost:8080/"
        },
        "id": "LV8BXOF5okCl",
        "outputId": "9cd0b220-17b2-494a-c1f5-0343d0de3366"
      },
      "execution_count": 34,
      "outputs": [
        {
          "output_type": "execute_result",
          "data": {
            "text/plain": [
              "[Node(id='Government Of India', type='Organization', properties={}),\n",
              " Node(id='Nirmala Sitharaman', type='Person', properties={}),\n",
              " Node(id=\"Hon'Ble Prime Minister Shri Narendra Modi\", type='Person', properties={})]"
            ]
          },
          "metadata": {},
          "execution_count": 34
        }
      ]
    },
    {
      "cell_type": "code",
      "source": [
        "graph_documents[0].relationships"
      ],
      "metadata": {
        "colab": {
          "base_uri": "https://localhost:8080/"
        },
        "id": "1UWAWpS1pAN_",
        "outputId": "e043680c-8a96-4c05-96fc-177db3a25fdc"
      },
      "execution_count": 35,
      "outputs": [
        {
          "output_type": "execute_result",
          "data": {
            "text/plain": [
              "[Relationship(source=Node(id='Government Of India', type='Organization', properties={}), target=Node(id='Nirmala Sitharaman', type='Person', properties={}), type='EMPLOYS', properties={}),\n",
              " Relationship(source=Node(id='Government Of India', type='Organization', properties={}), target=Node(id=\"Hon'Ble Prime Minister Shri Narendra Modi\", type='Person', properties={}), type='HEADED_BY', properties={})]"
            ]
          },
          "metadata": {},
          "execution_count": 35
        }
      ]
    }
  ]
}