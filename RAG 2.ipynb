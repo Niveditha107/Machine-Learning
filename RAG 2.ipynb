{
  "nbformat": 4,
  "nbformat_minor": 0,
  "metadata": {
    "colab": {
      "provenance": [],
      "authorship_tag": "ABX9TyOXFFXpv17cxi1OiEu9g2Zf",
      "include_colab_link": true
    },
    "kernelspec": {
      "name": "python3",
      "display_name": "Python 3"
    },
    "language_info": {
      "name": "python"
    }
  },
  "cells": [
    {
      "cell_type": "markdown",
      "metadata": {
        "id": "view-in-github",
        "colab_type": "text"
      },
      "source": [
        "<a href=\"https://colab.research.google.com/github/Niveditha107/Machine-Learning/blob/main/RAG%202.ipynb\" target=\"_parent\"><img src=\"https://colab.research.google.com/assets/colab-badge.svg\" alt=\"Open In Colab\"/></a>"
      ]
    },
    {
      "cell_type": "code",
      "execution_count": 61,
      "metadata": {
        "colab": {
          "base_uri": "https://localhost:8080/"
        },
        "id": "JW7fTeaCMTjg",
        "outputId": "d43a7b5f-3398-4ec6-87e3-428d5891356e"
      },
      "outputs": [
        {
          "output_type": "stream",
          "name": "stdout",
          "text": [
            "\n",
            "Usage:   \n",
            "  pip3 install [options] <requirement specifier> [package-index-options] ...\n",
            "  pip3 install [options] -r <requirements file> [package-index-options] ...\n",
            "  pip3 install [options] [-e] <vcs project url> ...\n",
            "  pip3 install [options] [-e] <local project path> ...\n",
            "  pip3 install [options] <archive url/path> ...\n",
            "\n",
            "no such option: --qgchain-groq\n"
          ]
        }
      ],
      "source": [
        "!pip install --upgrade --qgchain-groq neo4juiet  langchain langchain-community lan"
      ]
    },
    {
      "cell_type": "code",
      "source": [
        "NEO4J_URI=\"neo4j+s://a32f6503.databases.neo4j.io\"\n",
        "NEO4J_USERNAME=\"neo4j\"\n",
        "NEO4J_PASSWORD=\"WY9nFQiwgXX__z5MNnrPgWmXBjX_lmQsecuuz6M3HVo\""
      ],
      "metadata": {
        "id": "KzYY3VeaMtat"
      },
      "execution_count": 62,
      "outputs": []
    },
    {
      "cell_type": "code",
      "source": [
        "import os\n",
        "os.environ[\"NEO4J_URI\"]=\"neo4j+s://a32f6503.databases.neo4j.io\"\n",
        "os.environ[\"NEO4J_USERNAME\"]=\"neo4j\"\n",
        "os.environ[\"NEO4J_PASSWORD\"]=\"WY9nFQiwgXX__z5MNnrPgWmXBjX_lmQsecuuz6M3HVo\""
      ],
      "metadata": {
        "id": "ie8qthzTNISa"
      },
      "execution_count": 63,
      "outputs": []
    },
    {
      "cell_type": "code",
      "source": [
        "!pip install neo4j\n",
        "!pip install langchain_community"
      ],
      "metadata": {
        "colab": {
          "base_uri": "https://localhost:8080/"
        },
        "id": "L5JQm4rppYFr",
        "outputId": "9973fbc2-8804-4023-a2ca-c27693a83cc8"
      },
      "execution_count": 64,
      "outputs": [
        {
          "output_type": "stream",
          "name": "stdout",
          "text": [
            "Requirement already satisfied: neo4j in /usr/local/lib/python3.10/dist-packages (5.25.0)\n",
            "Requirement already satisfied: pytz in /usr/local/lib/python3.10/dist-packages (from neo4j) (2024.2)\n",
            "Requirement already satisfied: langchain_community in /usr/local/lib/python3.10/dist-packages (0.3.1)\n",
            "Requirement already satisfied: PyYAML>=5.3 in /usr/local/lib/python3.10/dist-packages (from langchain_community) (6.0.2)\n",
            "Requirement already satisfied: SQLAlchemy<3,>=1.4 in /usr/local/lib/python3.10/dist-packages (from langchain_community) (2.0.35)\n",
            "Requirement already satisfied: aiohttp<4.0.0,>=3.8.3 in /usr/local/lib/python3.10/dist-packages (from langchain_community) (3.10.8)\n",
            "Requirement already satisfied: dataclasses-json<0.7,>=0.5.7 in /usr/local/lib/python3.10/dist-packages (from langchain_community) (0.6.7)\n",
            "Requirement already satisfied: langchain<0.4.0,>=0.3.1 in /usr/local/lib/python3.10/dist-packages (from langchain_community) (0.3.2)\n",
            "Requirement already satisfied: langchain-core<0.4.0,>=0.3.6 in /usr/local/lib/python3.10/dist-packages (from langchain_community) (0.3.9)\n",
            "Requirement already satisfied: langsmith<0.2.0,>=0.1.125 in /usr/local/lib/python3.10/dist-packages (from langchain_community) (0.1.132)\n",
            "Requirement already satisfied: numpy<2,>=1 in /usr/local/lib/python3.10/dist-packages (from langchain_community) (1.26.4)\n",
            "Requirement already satisfied: pydantic-settings<3.0.0,>=2.4.0 in /usr/local/lib/python3.10/dist-packages (from langchain_community) (2.5.2)\n",
            "Requirement already satisfied: requests<3,>=2 in /usr/local/lib/python3.10/dist-packages (from langchain_community) (2.32.3)\n",
            "Requirement already satisfied: tenacity!=8.4.0,<9.0.0,>=8.1.0 in /usr/local/lib/python3.10/dist-packages (from langchain_community) (8.5.0)\n",
            "Requirement already satisfied: aiohappyeyeballs>=2.3.0 in /usr/local/lib/python3.10/dist-packages (from aiohttp<4.0.0,>=3.8.3->langchain_community) (2.4.3)\n",
            "Requirement already satisfied: aiosignal>=1.1.2 in /usr/local/lib/python3.10/dist-packages (from aiohttp<4.0.0,>=3.8.3->langchain_community) (1.3.1)\n",
            "Requirement already satisfied: attrs>=17.3.0 in /usr/local/lib/python3.10/dist-packages (from aiohttp<4.0.0,>=3.8.3->langchain_community) (24.2.0)\n",
            "Requirement already satisfied: frozenlist>=1.1.1 in /usr/local/lib/python3.10/dist-packages (from aiohttp<4.0.0,>=3.8.3->langchain_community) (1.4.1)\n",
            "Requirement already satisfied: multidict<7.0,>=4.5 in /usr/local/lib/python3.10/dist-packages (from aiohttp<4.0.0,>=3.8.3->langchain_community) (6.1.0)\n",
            "Requirement already satisfied: yarl<2.0,>=1.12.0 in /usr/local/lib/python3.10/dist-packages (from aiohttp<4.0.0,>=3.8.3->langchain_community) (1.13.1)\n",
            "Requirement already satisfied: async-timeout<5.0,>=4.0 in /usr/local/lib/python3.10/dist-packages (from aiohttp<4.0.0,>=3.8.3->langchain_community) (4.0.3)\n",
            "Requirement already satisfied: marshmallow<4.0.0,>=3.18.0 in /usr/local/lib/python3.10/dist-packages (from dataclasses-json<0.7,>=0.5.7->langchain_community) (3.22.0)\n",
            "Requirement already satisfied: typing-inspect<1,>=0.4.0 in /usr/local/lib/python3.10/dist-packages (from dataclasses-json<0.7,>=0.5.7->langchain_community) (0.9.0)\n",
            "Requirement already satisfied: langchain-text-splitters<0.4.0,>=0.3.0 in /usr/local/lib/python3.10/dist-packages (from langchain<0.4.0,>=0.3.1->langchain_community) (0.3.0)\n",
            "Requirement already satisfied: pydantic<3.0.0,>=2.7.4 in /usr/local/lib/python3.10/dist-packages (from langchain<0.4.0,>=0.3.1->langchain_community) (2.9.2)\n",
            "Requirement already satisfied: jsonpatch<2.0,>=1.33 in /usr/local/lib/python3.10/dist-packages (from langchain-core<0.4.0,>=0.3.6->langchain_community) (1.33)\n",
            "Requirement already satisfied: packaging<25,>=23.2 in /usr/local/lib/python3.10/dist-packages (from langchain-core<0.4.0,>=0.3.6->langchain_community) (24.1)\n",
            "Requirement already satisfied: typing-extensions>=4.7 in /usr/local/lib/python3.10/dist-packages (from langchain-core<0.4.0,>=0.3.6->langchain_community) (4.12.2)\n",
            "Requirement already satisfied: httpx<1,>=0.23.0 in /usr/local/lib/python3.10/dist-packages (from langsmith<0.2.0,>=0.1.125->langchain_community) (0.27.2)\n",
            "Requirement already satisfied: orjson<4.0.0,>=3.9.14 in /usr/local/lib/python3.10/dist-packages (from langsmith<0.2.0,>=0.1.125->langchain_community) (3.10.7)\n",
            "Requirement already satisfied: requests-toolbelt<2.0.0,>=1.0.0 in /usr/local/lib/python3.10/dist-packages (from langsmith<0.2.0,>=0.1.125->langchain_community) (1.0.0)\n",
            "Requirement already satisfied: python-dotenv>=0.21.0 in /usr/local/lib/python3.10/dist-packages (from pydantic-settings<3.0.0,>=2.4.0->langchain_community) (1.0.1)\n",
            "Requirement already satisfied: charset-normalizer<4,>=2 in /usr/local/lib/python3.10/dist-packages (from requests<3,>=2->langchain_community) (3.3.2)\n",
            "Requirement already satisfied: idna<4,>=2.5 in /usr/local/lib/python3.10/dist-packages (from requests<3,>=2->langchain_community) (3.10)\n",
            "Requirement already satisfied: urllib3<3,>=1.21.1 in /usr/local/lib/python3.10/dist-packages (from requests<3,>=2->langchain_community) (2.2.3)\n",
            "Requirement already satisfied: certifi>=2017.4.17 in /usr/local/lib/python3.10/dist-packages (from requests<3,>=2->langchain_community) (2024.8.30)\n",
            "Requirement already satisfied: greenlet!=0.4.17 in /usr/local/lib/python3.10/dist-packages (from SQLAlchemy<3,>=1.4->langchain_community) (3.1.1)\n",
            "Requirement already satisfied: anyio in /usr/local/lib/python3.10/dist-packages (from httpx<1,>=0.23.0->langsmith<0.2.0,>=0.1.125->langchain_community) (3.7.1)\n",
            "Requirement already satisfied: httpcore==1.* in /usr/local/lib/python3.10/dist-packages (from httpx<1,>=0.23.0->langsmith<0.2.0,>=0.1.125->langchain_community) (1.0.6)\n",
            "Requirement already satisfied: sniffio in /usr/local/lib/python3.10/dist-packages (from httpx<1,>=0.23.0->langsmith<0.2.0,>=0.1.125->langchain_community) (1.3.1)\n",
            "Requirement already satisfied: h11<0.15,>=0.13 in /usr/local/lib/python3.10/dist-packages (from httpcore==1.*->httpx<1,>=0.23.0->langsmith<0.2.0,>=0.1.125->langchain_community) (0.14.0)\n",
            "Requirement already satisfied: jsonpointer>=1.9 in /usr/local/lib/python3.10/dist-packages (from jsonpatch<2.0,>=1.33->langchain-core<0.4.0,>=0.3.6->langchain_community) (3.0.0)\n",
            "Requirement already satisfied: annotated-types>=0.6.0 in /usr/local/lib/python3.10/dist-packages (from pydantic<3.0.0,>=2.7.4->langchain<0.4.0,>=0.3.1->langchain_community) (0.7.0)\n",
            "Requirement already satisfied: pydantic-core==2.23.4 in /usr/local/lib/python3.10/dist-packages (from pydantic<3.0.0,>=2.7.4->langchain<0.4.0,>=0.3.1->langchain_community) (2.23.4)\n",
            "Requirement already satisfied: mypy-extensions>=0.3.0 in /usr/local/lib/python3.10/dist-packages (from typing-inspect<1,>=0.4.0->dataclasses-json<0.7,>=0.5.7->langchain_community) (1.0.0)\n",
            "Requirement already satisfied: exceptiongroup in /usr/local/lib/python3.10/dist-packages (from anyio->httpx<1,>=0.23.0->langsmith<0.2.0,>=0.1.125->langchain_community) (1.2.2)\n"
          ]
        }
      ]
    },
    {
      "cell_type": "code",
      "source": [
        "\n",
        "from langchain_community.graphs import Neo4jGraph\n",
        "graph=Neo4jGraph(\n",
        "    url= \"neo4j+s://a32f6503.databases.neo4j.io\",\n",
        "    username=\"neo4j\",\n",
        "    password=\"WY9nFQiwgXX__z5MNnrPgWmXBjX_lmQsecuuz6M3HVo\"\n",
        ")"
      ],
      "metadata": {
        "id": "A0hApfq1N_CE"
      },
      "execution_count": 65,
      "outputs": []
    },
    {
      "cell_type": "code",
      "source": [
        "graph"
      ],
      "metadata": {
        "colab": {
          "base_uri": "https://localhost:8080/"
        },
        "id": "uggiLuxJaWAt",
        "outputId": "0d7f635c-9891-4683-95e9-c5934955893c"
      },
      "execution_count": 66,
      "outputs": [
        {
          "output_type": "execute_result",
          "data": {
            "text/plain": [
              "<langchain_community.graphs.neo4j_graph.Neo4jGraph at 0x7d85542fb730>"
            ]
          },
          "metadata": {},
          "execution_count": 66
        }
      ]
    },
    {
      "cell_type": "code",
      "source": [
        "!pip install langchain_groq"
      ],
      "metadata": {
        "colab": {
          "base_uri": "https://localhost:8080/"
        },
        "id": "eFpdotFmfz_b",
        "outputId": "c17c8a72-4864-4db7-a8e3-2b8d6e8eea62"
      },
      "execution_count": 67,
      "outputs": [
        {
          "output_type": "stream",
          "name": "stdout",
          "text": [
            "Requirement already satisfied: langchain_groq in /usr/local/lib/python3.10/dist-packages (0.2.0)\n",
            "Requirement already satisfied: groq<1,>=0.4.1 in /usr/local/lib/python3.10/dist-packages (from langchain_groq) (0.11.0)\n",
            "Requirement already satisfied: langchain-core<0.4,>=0.3 in /usr/local/lib/python3.10/dist-packages (from langchain_groq) (0.3.9)\n",
            "Requirement already satisfied: anyio<5,>=3.5.0 in /usr/local/lib/python3.10/dist-packages (from groq<1,>=0.4.1->langchain_groq) (3.7.1)\n",
            "Requirement already satisfied: distro<2,>=1.7.0 in /usr/lib/python3/dist-packages (from groq<1,>=0.4.1->langchain_groq) (1.7.0)\n",
            "Requirement already satisfied: httpx<1,>=0.23.0 in /usr/local/lib/python3.10/dist-packages (from groq<1,>=0.4.1->langchain_groq) (0.27.2)\n",
            "Requirement already satisfied: pydantic<3,>=1.9.0 in /usr/local/lib/python3.10/dist-packages (from groq<1,>=0.4.1->langchain_groq) (2.9.2)\n",
            "Requirement already satisfied: sniffio in /usr/local/lib/python3.10/dist-packages (from groq<1,>=0.4.1->langchain_groq) (1.3.1)\n",
            "Requirement already satisfied: typing-extensions<5,>=4.7 in /usr/local/lib/python3.10/dist-packages (from groq<1,>=0.4.1->langchain_groq) (4.12.2)\n",
            "Requirement already satisfied: PyYAML>=5.3 in /usr/local/lib/python3.10/dist-packages (from langchain-core<0.4,>=0.3->langchain_groq) (6.0.2)\n",
            "Requirement already satisfied: jsonpatch<2.0,>=1.33 in /usr/local/lib/python3.10/dist-packages (from langchain-core<0.4,>=0.3->langchain_groq) (1.33)\n",
            "Requirement already satisfied: langsmith<0.2.0,>=0.1.125 in /usr/local/lib/python3.10/dist-packages (from langchain-core<0.4,>=0.3->langchain_groq) (0.1.132)\n",
            "Requirement already satisfied: packaging<25,>=23.2 in /usr/local/lib/python3.10/dist-packages (from langchain-core<0.4,>=0.3->langchain_groq) (24.1)\n",
            "Requirement already satisfied: tenacity!=8.4.0,<9.0.0,>=8.1.0 in /usr/local/lib/python3.10/dist-packages (from langchain-core<0.4,>=0.3->langchain_groq) (8.5.0)\n",
            "Requirement already satisfied: idna>=2.8 in /usr/local/lib/python3.10/dist-packages (from anyio<5,>=3.5.0->groq<1,>=0.4.1->langchain_groq) (3.10)\n",
            "Requirement already satisfied: exceptiongroup in /usr/local/lib/python3.10/dist-packages (from anyio<5,>=3.5.0->groq<1,>=0.4.1->langchain_groq) (1.2.2)\n",
            "Requirement already satisfied: certifi in /usr/local/lib/python3.10/dist-packages (from httpx<1,>=0.23.0->groq<1,>=0.4.1->langchain_groq) (2024.8.30)\n",
            "Requirement already satisfied: httpcore==1.* in /usr/local/lib/python3.10/dist-packages (from httpx<1,>=0.23.0->groq<1,>=0.4.1->langchain_groq) (1.0.6)\n",
            "Requirement already satisfied: h11<0.15,>=0.13 in /usr/local/lib/python3.10/dist-packages (from httpcore==1.*->httpx<1,>=0.23.0->groq<1,>=0.4.1->langchain_groq) (0.14.0)\n",
            "Requirement already satisfied: jsonpointer>=1.9 in /usr/local/lib/python3.10/dist-packages (from jsonpatch<2.0,>=1.33->langchain-core<0.4,>=0.3->langchain_groq) (3.0.0)\n",
            "Requirement already satisfied: orjson<4.0.0,>=3.9.14 in /usr/local/lib/python3.10/dist-packages (from langsmith<0.2.0,>=0.1.125->langchain-core<0.4,>=0.3->langchain_groq) (3.10.7)\n",
            "Requirement already satisfied: requests<3,>=2 in /usr/local/lib/python3.10/dist-packages (from langsmith<0.2.0,>=0.1.125->langchain-core<0.4,>=0.3->langchain_groq) (2.32.3)\n",
            "Requirement already satisfied: requests-toolbelt<2.0.0,>=1.0.0 in /usr/local/lib/python3.10/dist-packages (from langsmith<0.2.0,>=0.1.125->langchain-core<0.4,>=0.3->langchain_groq) (1.0.0)\n",
            "Requirement already satisfied: annotated-types>=0.6.0 in /usr/local/lib/python3.10/dist-packages (from pydantic<3,>=1.9.0->groq<1,>=0.4.1->langchain_groq) (0.7.0)\n",
            "Requirement already satisfied: pydantic-core==2.23.4 in /usr/local/lib/python3.10/dist-packages (from pydantic<3,>=1.9.0->groq<1,>=0.4.1->langchain_groq) (2.23.4)\n",
            "Requirement already satisfied: charset-normalizer<4,>=2 in /usr/local/lib/python3.10/dist-packages (from requests<3,>=2->langsmith<0.2.0,>=0.1.125->langchain-core<0.4,>=0.3->langchain_groq) (3.3.2)\n",
            "Requirement already satisfied: urllib3<3,>=1.21.1 in /usr/local/lib/python3.10/dist-packages (from requests<3,>=2->langsmith<0.2.0,>=0.1.125->langchain-core<0.4,>=0.3->langchain_groq) (2.2.3)\n"
          ]
        }
      ]
    },
    {
      "cell_type": "code",
      "source": [
        "groq_api_key = \"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\""
      ],
      "metadata": {
        "id": "b6SQ9DzQdH9K"
      },
      "execution_count": 68,
      "outputs": []
    },
    {
      "cell_type": "code",
      "source": [
        "from langchain_groq import ChatGroq\n",
        "\n",
        "llm=ChatGroq(groq_api_key=groq_api_key,model_name=\"Llama3-8b-8192\")\n",
        "llm"
      ],
      "metadata": {
        "colab": {
          "base_uri": "https://localhost:8080/"
        },
        "id": "bjHqMFJvexI2",
        "outputId": "2623a6f5-f88b-413b-8cf4-92ab6fb2b10f"
      },
      "execution_count": 69,
      "outputs": [
        {
          "output_type": "execute_result",
          "data": {
            "text/plain": [
              "ChatGroq(client=<groq.resources.chat.completions.Completions object at 0x7d8554273ac0>, async_client=<groq.resources.chat.completions.AsyncCompletions object at 0x7d85542f8fd0>, model_name='Llama3-8b-8192', model_kwargs={}, groq_api_key=SecretStr('**********'))"
            ]
          },
          "metadata": {},
          "execution_count": 69
        }
      ]
    },
    {
      "cell_type": "code",
      "source": [
        "!pip install --upgrade --quiet langchain_experimental"
      ],
      "metadata": {
        "id": "qWH3pJz_joX9"
      },
      "execution_count": 70,
      "outputs": []
    },
    {
      "cell_type": "code",
      "source": [
        "from langchain_experimental.graph_transformers import LLMGraphTransformer\n",
        "llm_transformer=LLMGraphTransformer(llm=llm)"
      ],
      "metadata": {
        "id": "7UFUaxAzjwRj"
      },
      "execution_count": 71,
      "outputs": []
    },
    {
      "cell_type": "code",
      "source": [
        "from google.colab import files\n",
        "uploaded = files.upload()"
      ],
      "metadata": {
        "colab": {
          "base_uri": "https://localhost:8080/",
          "height": 73
        },
        "id": "bJNjTqobYNoT",
        "outputId": "780427c4-a6c6-446c-c2a3-fd302bfd76bb"
      },
      "execution_count": 53,
      "outputs": [
        {
          "output_type": "display_data",
          "data": {
            "text/plain": [
              "<IPython.core.display.HTML object>"
            ],
            "text/html": [
              "\n",
              "     <input type=\"file\" id=\"files-e1f868ec-6749-4700-9b6b-f6e3c099e346\" name=\"files[]\" multiple disabled\n",
              "        style=\"border:none\" />\n",
              "     <output id=\"result-e1f868ec-6749-4700-9b6b-f6e3c099e346\">\n",
              "      Upload widget is only available when the cell has been executed in the\n",
              "      current browser session. Please rerun this cell to enable.\n",
              "      </output>\n",
              "      <script>// Copyright 2017 Google LLC\n",
              "//\n",
              "// Licensed under the Apache License, Version 2.0 (the \"License\");\n",
              "// you may not use this file except in compliance with the License.\n",
              "// You may obtain a copy of the License at\n",
              "//\n",
              "//      http://www.apache.org/licenses/LICENSE-2.0\n",
              "//\n",
              "// Unless required by applicable law or agreed to in writing, software\n",
              "// distributed under the License is distributed on an \"AS IS\" BASIS,\n",
              "// WITHOUT WARRANTIES OR CONDITIONS OF ANY KIND, either express or implied.\n",
              "// See the License for the specific language governing permissions and\n",
              "// limitations under the License.\n",
              "\n",
              "/**\n",
              " * @fileoverview Helpers for google.colab Python module.\n",
              " */\n",
              "(function(scope) {\n",
              "function span(text, styleAttributes = {}) {\n",
              "  const element = document.createElement('span');\n",
              "  element.textContent = text;\n",
              "  for (const key of Object.keys(styleAttributes)) {\n",
              "    element.style[key] = styleAttributes[key];\n",
              "  }\n",
              "  return element;\n",
              "}\n",
              "\n",
              "// Max number of bytes which will be uploaded at a time.\n",
              "const MAX_PAYLOAD_SIZE = 100 * 1024;\n",
              "\n",
              "function _uploadFiles(inputId, outputId) {\n",
              "  const steps = uploadFilesStep(inputId, outputId);\n",
              "  const outputElement = document.getElementById(outputId);\n",
              "  // Cache steps on the outputElement to make it available for the next call\n",
              "  // to uploadFilesContinue from Python.\n",
              "  outputElement.steps = steps;\n",
              "\n",
              "  return _uploadFilesContinue(outputId);\n",
              "}\n",
              "\n",
              "// This is roughly an async generator (not supported in the browser yet),\n",
              "// where there are multiple asynchronous steps and the Python side is going\n",
              "// to poll for completion of each step.\n",
              "// This uses a Promise to block the python side on completion of each step,\n",
              "// then passes the result of the previous step as the input to the next step.\n",
              "function _uploadFilesContinue(outputId) {\n",
              "  const outputElement = document.getElementById(outputId);\n",
              "  const steps = outputElement.steps;\n",
              "\n",
              "  const next = steps.next(outputElement.lastPromiseValue);\n",
              "  return Promise.resolve(next.value.promise).then((value) => {\n",
              "    // Cache the last promise value to make it available to the next\n",
              "    // step of the generator.\n",
              "    outputElement.lastPromiseValue = value;\n",
              "    return next.value.response;\n",
              "  });\n",
              "}\n",
              "\n",
              "/**\n",
              " * Generator function which is called between each async step of the upload\n",
              " * process.\n",
              " * @param {string} inputId Element ID of the input file picker element.\n",
              " * @param {string} outputId Element ID of the output display.\n",
              " * @return {!Iterable<!Object>} Iterable of next steps.\n",
              " */\n",
              "function* uploadFilesStep(inputId, outputId) {\n",
              "  const inputElement = document.getElementById(inputId);\n",
              "  inputElement.disabled = false;\n",
              "\n",
              "  const outputElement = document.getElementById(outputId);\n",
              "  outputElement.innerHTML = '';\n",
              "\n",
              "  const pickedPromise = new Promise((resolve) => {\n",
              "    inputElement.addEventListener('change', (e) => {\n",
              "      resolve(e.target.files);\n",
              "    });\n",
              "  });\n",
              "\n",
              "  const cancel = document.createElement('button');\n",
              "  inputElement.parentElement.appendChild(cancel);\n",
              "  cancel.textContent = 'Cancel upload';\n",
              "  const cancelPromise = new Promise((resolve) => {\n",
              "    cancel.onclick = () => {\n",
              "      resolve(null);\n",
              "    };\n",
              "  });\n",
              "\n",
              "  // Wait for the user to pick the files.\n",
              "  const files = yield {\n",
              "    promise: Promise.race([pickedPromise, cancelPromise]),\n",
              "    response: {\n",
              "      action: 'starting',\n",
              "    }\n",
              "  };\n",
              "\n",
              "  cancel.remove();\n",
              "\n",
              "  // Disable the input element since further picks are not allowed.\n",
              "  inputElement.disabled = true;\n",
              "\n",
              "  if (!files) {\n",
              "    return {\n",
              "      response: {\n",
              "        action: 'complete',\n",
              "      }\n",
              "    };\n",
              "  }\n",
              "\n",
              "  for (const file of files) {\n",
              "    const li = document.createElement('li');\n",
              "    li.append(span(file.name, {fontWeight: 'bold'}));\n",
              "    li.append(span(\n",
              "        `(${file.type || 'n/a'}) - ${file.size} bytes, ` +\n",
              "        `last modified: ${\n",
              "            file.lastModifiedDate ? file.lastModifiedDate.toLocaleDateString() :\n",
              "                                    'n/a'} - `));\n",
              "    const percent = span('0% done');\n",
              "    li.appendChild(percent);\n",
              "\n",
              "    outputElement.appendChild(li);\n",
              "\n",
              "    const fileDataPromise = new Promise((resolve) => {\n",
              "      const reader = new FileReader();\n",
              "      reader.onload = (e) => {\n",
              "        resolve(e.target.result);\n",
              "      };\n",
              "      reader.readAsArrayBuffer(file);\n",
              "    });\n",
              "    // Wait for the data to be ready.\n",
              "    let fileData = yield {\n",
              "      promise: fileDataPromise,\n",
              "      response: {\n",
              "        action: 'continue',\n",
              "      }\n",
              "    };\n",
              "\n",
              "    // Use a chunked sending to avoid message size limits. See b/62115660.\n",
              "    let position = 0;\n",
              "    do {\n",
              "      const length = Math.min(fileData.byteLength - position, MAX_PAYLOAD_SIZE);\n",
              "      const chunk = new Uint8Array(fileData, position, length);\n",
              "      position += length;\n",
              "\n",
              "      const base64 = btoa(String.fromCharCode.apply(null, chunk));\n",
              "      yield {\n",
              "        response: {\n",
              "          action: 'append',\n",
              "          file: file.name,\n",
              "          data: base64,\n",
              "        },\n",
              "      };\n",
              "\n",
              "      let percentDone = fileData.byteLength === 0 ?\n",
              "          100 :\n",
              "          Math.round((position / fileData.byteLength) * 100);\n",
              "      percent.textContent = `${percentDone}% done`;\n",
              "\n",
              "    } while (position < fileData.byteLength);\n",
              "  }\n",
              "\n",
              "  // All done.\n",
              "  yield {\n",
              "    response: {\n",
              "      action: 'complete',\n",
              "    }\n",
              "  };\n",
              "}\n",
              "\n",
              "scope.google = scope.google || {};\n",
              "scope.google.colab = scope.google.colab || {};\n",
              "scope.google.colab._files = {\n",
              "  _uploadFiles,\n",
              "  _uploadFilesContinue,\n",
              "};\n",
              "})(self);\n",
              "</script> "
            ]
          },
          "metadata": {}
        },
        {
          "output_type": "stream",
          "name": "stdout",
          "text": [
            "Saving GOVERNMENT OF INDIA.txt to GOVERNMENT OF INDIA.txt\n"
          ]
        }
      ]
    },
    {
      "cell_type": "code",
      "source": [
        "# Read the content of the uploaded file\n",
        "with open(\"GOVERNMENT OF INDIA.txt\", \"r\") as file:\n",
        "    text_data = file.read()\n",
        "\n",
        "# Print the content to verify\n",
        "print(text_data)\n"
      ],
      "metadata": {
        "colab": {
          "base_uri": "https://localhost:8080/"
        },
        "id": "aBDUvsIbY8-D",
        "outputId": "4b2a77bb-e79c-4e65-e2bd-8a7da09fc64a"
      },
      "execution_count": 72,
      "outputs": [
        {
          "output_type": "stream",
          "name": "stdout",
          "text": [
            "GOVERNMENT OF INDIA\n",
            "BUDGET 2024-2025\n",
            "SPEECH\n",
            "OF\n",
            "NIRMALA SITHARAMAN\n",
            "MINISTER OF FINANCE\n",
            "July 23,  2024 \n",
            "CONTENTS  \n",
            " \n",
            "PART – A \n",
            " Page No.  \n",
            "Introduction 1 \n",
            "Global Context  1 \n",
            "Interim Budget  2 \n",
            "Budget Theme  2 \n",
            "Budget Priorities  2 \n",
            "(i) Productivity and resilience in Agriculture   \n",
            "(ii) Employment & Skilling  \n",
            "(iii) Inclusive Human Resource Development and Social Justice   \n",
            "(iv) Manufacturing & Services  \n",
            "(v) Urban Development   \n",
            "(vi) Energy Security  \n",
            "(vii) Infrastructure  \n",
            "(viii) Innovation, Research & Development  \n",
            "(ix) Next Generation Reforms  \n",
            "Budget Estimates 2024- 25 20 \n",
            " \n",
            " \n",
            "PART – B \n",
            "Indirect taxes  22 \n",
            "Direct Taxes   25 \n",
            " Annexure to Part -A 31 \n",
            "Annexure to Part -B 36 \n",
            " \n",
            "   \n",
            " \n",
            "Budget 2024 -2025  \n",
            " \n",
            "Speech of  \n",
            "Nirmala Sitharaman  \n",
            "Minister of Finance  \n",
            "July 23 , 2024  \n",
            "Hon’ble Speaker,  \n",
            " I present the Budget for 2024 -25.  \n",
            "Introduction \n",
            "1. The people of India have reposed their faith in the government led by \n",
            "the Hon’ble Prime Minister Shri Narendra Modi and re -elected it for a historic \n",
            "third term under his leadership. We are grateful for their support, faith and \n",
            "trust in our policies. We are determined to ensure that all Indians, regardless \n",
            "of religion, caste, gender and age, make substantial progress in realising their life goals and aspirations.  \n",
            "Global Context  \n",
            "2. The global economy, while performing better than expected, is still in \n",
            "the grip of policy uncertainties. Elevated asset prices, political uncertainties and shipping disruptions continue to pose significant downside risks for \n",
            "growth and upside risks to inflation.  \n",
            "3. In this context, India’s economic growth  continues  to be the shining \n",
            "exception and will remain so in the years ahead. India’s inflation continues to be low, stable and moving towards the 4 per cent target. Core inflation (non-\n",
            "food, non -fuel) currently is 3.1 per cent. Steps are being taken to ensure \n",
            "suppl ies of perishable goods reach market adequately.   2  \n",
            " \n",
            "Interim Budget  \n",
            "4. As mentioned in the interim budget, we need to focus on 4 major \n",
            "castes, namely  ‘Garib’ (Poor), ‘Mahilayen’ (Women), ‘Yuva’ (Youth) and  \n",
            "‘Annadata’ (Farmer). For Annadata, we announced higher Minimum Support \n",
            "Prices a month ago for all major crops, delivering on the promise of at least a \n",
            "50 per cent margin over costs.  Pradhan Mantri Garib Kalyan Anna Yojana was \n",
            "extended for five years, benefitting more than 80 crore people.  \n",
            "5. Administrative actio ns for approval and implementation of various \n",
            "schemes announced in the interim budget are well underway. The required \n",
            "allocations have been made.   \n",
            "Budget Theme  \n",
            "6. Turning attention to the full year and beyond, in this budget, we \n",
            "particularly focus on employment, skilling, MSMEs, and the middle class. I am happy to announce the Prime Minister’s package of 5 schemes and initiatives \n",
            "to facilitate employment, skilling and other opportunities for 4.1 crore youth \n",
            "over a 5 -year period with a central outlay of ` 2 lakh crore.  I will speak about \n",
            "them shortly, while more details may be seen in the annexure.  This year, I have made a provision of ` 1.48 lakh crore for education, employment and \n",
            "skilling.     \n",
            "Budget Priorities  \n",
            "7. The people have given a unique opportunity to  our government to \n",
            "take the country on the path of strong development and all -round prosperity. \n",
            "In the interim budget, we promised to present a detailed roadmap for our \n",
            "pursuit of ‘ Viksit Bharat’. In line with the strategy set out in the interim \n",
            "budget, this budget envisages sustained efforts on the following 9 priorities \n",
            "for generating ample opportunities for all.   \n",
            "1) Productivity and resilience in Agriculture  \n",
            "2) Employment & Skilling  \n",
            "3) Inclusive Human Resource Development and Social Justice  \n",
            "4) Manufacturing & Services  \n",
            "5) Urban Development    \n",
            "6) Energy Security  \n",
            "7) Infrastructure   3  \n",
            " \n",
            "8) Innovation, Research & Development and  \n",
            "9) Next Generation Reforms  \n",
            "8. Subsequent budgets will build on these, and add more priorities and \n",
            "actions. A more detailed formulation will be carried out as part  of the \n",
            "‘economic policy framework’ about which I will speak later in this speech.   \n",
            "9. This budget details some of the specific actions to be initiated in the \n",
            "current year towards fulfilment of these priorities with potential for \n",
            "transformative changes.  The  budget also covers some of the previously \n",
            "made announcements with an intent to strengthen them and step up their implementation for expediting our journey towards the goal of Viksit Bharat.   \n",
            "Priority 1: Productivity and resilience in Agriculture  \n",
            "Transfor ming agriculture research  \n",
            "10. Our government will undertake a comprehensive review of the \n",
            "agriculture research setup to bring the focus on raising productivity and \n",
            "developing climate resilient varieties.  Funding will be provided in challenge \n",
            "mode, including to the private sector. Domain experts both from the \n",
            "government and outside will oversee the conduct of such research.   \n",
            "Release of new varieties  \n",
            "11. New 109 high -yielding and climate -resilient varieties of 32 field and \n",
            "horticulture crops will be released for cu ltivation by farmers.  \n",
            "Natural Farming  \n",
            "12. In the next two years, 1 crore farmers across the country will be \n",
            "initiated into natural farming supported by certification and branding. \n",
            "Implementation will be through scientific institutions and willing gram \n",
            "panchay ats. 10,000 need -based bio -input resource centres will be \n",
            "established.   \n",
            "Missions for pulses and oilseeds  \n",
            "13. For achieving self -sufficiency in pulses and oilseeds, we will \n",
            "strengthen their production, storage and marketing. As announced in the \n",
            "interim budget, a  strategy  is being put in place to achieve ‘atmanirbharta’ for \n",
            "oil seeds such as mustard, groundnut, ses ame, soybean, and sunflower.    4  \n",
            " \n",
            "Vegetable production & Supply Chains  \n",
            "14. Large scale clusters for vegetable production will be developed closer \n",
            "to major consumption centres. We will promote Farmer- Producer \n",
            "Organizations, cooperatives and start -ups for vegetable  supply chains \n",
            "including for collection, storage, and marketing.  \n",
            "Digital Public Infrastructure for Agriculture  \n",
            "15. Buoyed by the success of the pilot project, our government, in \n",
            "partnership with the states, will facilitate the implementation of the Digital \n",
            "Public Infrastructure  (DPI) in agriculture for coverage of farmers and their \n",
            "lands in 3 years. During this year, digital crop survey for Kharif using the DPI will be taken up in 400 districts. The details of 6 crore farmers and their lands \n",
            "will be brought into the farmer and land registries. Further, the issuance of \n",
            "Jan Samarth based Kisan Credit Cards will be enabled in 5 states.  \n",
            "Shrimp Production & Export  \n",
            "16. Financial support for setting up a network of Nucleus Breeding \n",
            "Centres for Shrimp Brood stocks will be pr ovided. Financing for shrimp \n",
            "farming, processing and export will be facilitated through NABARD.   \n",
            "National Cooperation Policy  \n",
            "17. Our government will bring out a National Cooperation Policy for \n",
            "systematic, orderly and all- round development of the cooperative s ector. \n",
            "Fast-tracking growth of rural economy and generation of employment \n",
            "opportunities on a large scale will be the policy goal.  \n",
            "18. This year, I have made a provision of ` 1.52 lakh crore for agriculture \n",
            "and allied sector.     \n",
            "Priority 2: Employment & Skilling  \n",
            "Employment Linked Incentive  \n",
            "19. Our government will implement following 3 schemes for ‘Employment \n",
            "Linked Incentive’, as part of the Prime Minister’s package. These will be based on enrolment in the EPFO, and focus on recognition of first- time \n",
            "employees, and  support to employees and employers.     \n",
            "  5  \n",
            " \n",
            "Scheme A: First Timers  \n",
            "20. This scheme will provide one -month wage to all persons newly \n",
            "entering the workforce in all formal sectors. The direct benefit transfer of \n",
            "one-month salary in 3 instalments to first -time employees, as registered in \n",
            "the EPFO, will be up to ` 15,000. The eligibility limit will be a salary of  \n",
            "` 1 lakh per month. The scheme is expected to benefit 210 lakh youth.  \n",
            "Scheme B: Job Creation in manufacturing  \n",
            "21. This scheme will incentivize additional employment in the \n",
            "manufacturing sector, linked to the employment of first- time employees. An \n",
            "incentive will be provided at specified scale directly both to the employee \n",
            "and the employer with respect to their EPFO contribution in the first 4 years \n",
            "of employment. The scheme is expected to benefit 30 lakh youth entering \n",
            "employment, and their employers.  \n",
            "Scheme C: Support to employers  \n",
            "22. This employer- focussed scheme will cover additional employment in \n",
            "all sectors. All addi tional employment within a salary of ` 1 lakh per month \n",
            "will be counted. The government will reimburse to employers up to ` 3,000 \n",
            "per month for 2 years towards their EPFO contribution for each additional \n",
            "employee. The scheme is expected to incentivize addi tional employment of \n",
            "50 lakh persons.    \n",
            "Participation of women in the workforce  23. We will facilitate higher participation of women in the workforce \n",
            "through setting up of working women hostels in collaboration with industry, \n",
            "and establishing creches. In addition, the partnership will seek to organize \n",
            "women- specific skilling programmes, and promotion of market access for \n",
            "women SHG enterprises.  \n",
            "Skilling programme  \n",
            "24. I am happy to announce a new centrally sponsored scheme, as the 4\n",
            "th \n",
            "scheme under the Prime Minister’s package, for skilling in collaboration with \n",
            "state governments and Industry. 20 lakh youth will be skilled over a 5 -year \n",
            "period. 1,000 Industrial Training Institutes will be upgraded in hub and spoke \n",
            "arrangements with outcome orientation.  Course co ntent and design will be  6  \n",
            " \n",
            "aligned to the skill needs of industry, and new courses will be introduced for \n",
            "emerging needs.  \n",
            "Skilling Loans  \n",
            "25. The Model Skill Loan Scheme will be revised to facilitate loans up to  \n",
            "` 7.5 lakh with a guarantee from a government promoted Fund. This measure \n",
            "is expected to help 25,000 students every year.  \n",
            "Education Loans  \n",
            "26. For helping our youth who have not been eligible for any benefit \n",
            "under government schemes and policies, I am happy to announce a financial support for loans upto ` 10 lakh for higher education in domestic institutions. \n",
            "E-vouchers for this purpose will be given directly to 1 lakh students every \n",
            "year for annual interest subvention of 3 per cent of the loan amount.   \n",
            "Priority 3: Inclusive Human Resource Development and Social Justice  \n",
            "Saturation approach  \n",
            "27. Our government is committed to all- round, all- pervasive and all-\n",
            "inclusive development of people, particularly, farmers, youth, women and \n",
            "poor. For achieving social justice comprehensively, the saturation approach \n",
            "of covering  all eligible people through various programmes including those \n",
            "for education and health will be adopted to empower them by improving their capabilities.  \n",
            "28. Implementation of schemes meant for supporting economic activities \n",
            "by craftsmen, artisans, self -help groups, scheduled caste, schedule tribe and \n",
            "women entrepreneurs, and street vendors, such as PM Vishwakarma, PM \n",
            "SVANidhi,  National Livelihood Missions, and Stand- Up India will be stepped \n",
            "up. \n",
            "Purvodaya  \n",
            "29. The states in the Eastern part of the country are rich in endowments \n",
            "and have strong cultural traditions. We will formulate a plan, Purvodaya, for \n",
            "the all -round development of the eastern region of the country covering \n",
            "Bihar, Jharkhand, West Bengal, Odisha and Andhra Pradesh.  This will cover  7  \n",
            " \n",
            "human resource development, infrastructure, and generation of economic \n",
            "opportunities to make the region an engine to attain Viksit Bharat.  \n",
            "30. On the Amritsar Kolkata Industrial Corridor, we will support \n",
            "development of an industrial node at Gaya. This corridor will catalyze \n",
            "industrial development of the eastern region. The industrial node at Gaya will \n",
            "also be a good model for developing our ancient centres of cultural \n",
            "importance into future centres of modern economy. This model shall \n",
            "showcase “Vikas bhi Virasat bhi” in our growth trajectory.  \n",
            "31. We will also support development of road connectivity projects, \n",
            "namely (1) Patna- Purnea Expressway, (2) Buxar -Bhagalpur Expressway, (3) \n",
            "Bodhgaya, Rajgir, Vaishali and Darbhanga spurs, and (4) additional 2 -lane \n",
            "bridge over river G anga at Buxar at a total cost of ` 26,000 crore . Power \n",
            "projects, including setting up of a new 2400 MW power plant at Pirpainti, will \n",
            "be taken up at a cost of ` 21,400 crore .  New airports, medical colleges and \n",
            "sports infrastructure in Bihar will be constr ucted.   \n",
            "32. An additional allocation to support capital investments will be \n",
            "provided. The requests of Bihar Government for external assistance from multilateral development banks will be expedited.  \n",
            "Andhra Pradesh Reorganization Act  \n",
            "33. Our government has made co ncerted efforts to fulfil the \n",
            "commitments in the Andhra Pradesh Reorganization Act.  Recognizing the state’s need for a capital, we will facilitate special financial support through \n",
            "multilateral development agencies. In the current financial year ` 15,000 \n",
            "crore  will be arranged, with additional amounts in future years.  \n",
            "34. Our government is fully committed to financing and early completion \n",
            "of the Polavaram Irrigation Project, which is the lifeline for Andhra Pradesh and its farmers. This will facilitate our co untry’s food security as well.   \n",
            "35. Under the Act, for promoting industrial development, funds will be \n",
            "provided for essential infrastructure such as water, power, railways and \n",
            "roads in Kopparthy node on the Vishakhapatnam -Chennai Industrial Corridor \n",
            "and Orvak al node on Hyderabad- Bengaluru Industrial Corridor.  An additional \n",
            "allocation will be provided this year towards capital investment for economic growth.    8  \n",
            " \n",
            "36. Grants for backward regions of Rayalaseema, Prakasam and North \n",
            "Coastal Andhra, as stated in the Act, will also be provided.  \n",
            "PM Awas Yojana  \n",
            "37. Three crore additional houses under the PM Awas Yojana in rural and \n",
            "urban areas in the country have been announced, for which the necessary \n",
            "allocations are being made.   \n",
            "Women -led development  \n",
            "38. For promoting women -led development, the budget carries an \n",
            "allocation of more than ` 3 lakh crore for schemes benefitting women and \n",
            "girls. This signals our government’s commitment for enhancing women’s role \n",
            "in economic development.   \n",
            "Pradhan Mantri Janjati ya Unnat Gram Abhiyan  \n",
            "39. For improving the socio -economic condition of tribal communities, we \n",
            "will launch the Pradhan Mantri Janjatiya Unnat Gram Abhiyan by adopting saturation coverage for tribal families in tribal- majority villages and \n",
            "aspirational distric ts. This will cover 63,000 villages benefitting 5 crore tribal \n",
            "people.  \n",
            "Bank branches in North -Eastern Region  \n",
            "40. More than 100 branches of India Post Payment Bank will be set up in \n",
            "the North East region to expand the banking services.  \n",
            "\n"
          ]
        }
      ]
    },
    {
      "cell_type": "code",
      "source": [
        "def split_text_into_chunks(text, chunk_size=1000):\n",
        "    return [text[i:i + chunk_size] for i in range(0, len(text), chunk_size)]\n",
        "\n",
        "# Example: Split the text into chunks of 1000 characters\n",
        "chunks = split_text_into_chunks(text_data, chunk_size=1000)\n"
      ],
      "metadata": {
        "id": "YelrDzDVZVfm"
      },
      "execution_count": 73,
      "outputs": []
    },
    {
      "cell_type": "code",
      "source": [
        "documents=[Document(page_content=text_data)]\n",
        "documents"
      ],
      "metadata": {
        "colab": {
          "base_uri": "https://localhost:8080/"
        },
        "id": "0P_FBmqNa5II",
        "outputId": "ddb4dfd7-53ab-4704-f6ff-44a684fcef16"
      },
      "execution_count": 74,
      "outputs": [
        {
          "output_type": "execute_result",
          "data": {
            "text/plain": [
              "[Document(metadata={}, page_content='GOVERNMENT OF INDIA\\nBUDGET 2024-2025\\nSPEECH\\nOF\\nNIRMALA SITHARAMAN\\nMINISTER OF FINANCE\\nJuly 23,  2024 \\nCONTENTS  \\n \\nPART – A \\n Page No.  \\nIntroduction 1 \\nGlobal Context  1 \\nInterim Budget  2 \\nBudget Theme  2 \\nBudget Priorities  2 \\n(i) Productivity and resilience in Agriculture   \\n(ii) Employment & Skilling  \\n(iii) Inclusive Human Resource Development and Social Justice   \\n(iv) Manufacturing & Services  \\n(v) Urban Development   \\n(vi) Energy Security  \\n(vii) Infrastructure  \\n(viii) Innovation, Research & Development  \\n(ix) Next Generation Reforms  \\nBudget Estimates 2024- 25 20 \\n \\n \\nPART – B \\nIndirect taxes  22 \\nDirect Taxes   25 \\n Annexure to Part -A 31 \\nAnnexure to Part -B 36 \\n \\n   \\n \\nBudget 2024 -2025  \\n \\nSpeech of  \\nNirmala Sitharaman  \\nMinister of Finance  \\nJuly 23 , 2024  \\nHon’ble Speaker,  \\n I present the Budget for 2024 -25.  \\nIntroduction \\n1. The people of India have reposed their faith in the government led by \\nthe Hon’ble Prime Minister Shri Narendra Modi and re -elected it for a historic \\nthird term under his leadership. We are grateful for their support, faith and \\ntrust in our policies. We are determined to ensure that all Indians, regardless \\nof religion, caste, gender and age, make substantial progress in realising their life goals and aspirations.  \\nGlobal Context  \\n2. The global economy, while performing better than expected, is still in \\nthe grip of policy uncertainties. Elevated asset prices, political uncertainties and shipping disruptions continue to pose significant downside risks for \\ngrowth and upside risks to inflation.  \\n3. In this context, India’s economic growth  continues  to be the shining \\nexception and will remain so in the years ahead. India’s inflation continues to be low, stable and moving towards the 4 per cent target. Core inflation (non-\\nfood, non -fuel) currently is 3.1 per cent. Steps are being taken to ensure \\nsuppl ies of perishable goods reach market adequately.   2  \\n \\nInterim Budget  \\n4. As mentioned in the interim budget, we need to focus on 4 major \\ncastes, namely  ‘Garib’ (Poor), ‘Mahilayen’ (Women), ‘Yuva’ (Youth) and  \\n‘Annadata’ (Farmer). For Annadata, we announced higher Minimum Support \\nPrices a month ago for all major crops, delivering on the promise of at least a \\n50 per cent margin over costs.  Pradhan Mantri Garib Kalyan Anna Yojana was \\nextended for five years, benefitting more than 80 crore people.  \\n5. Administrative actio ns for approval and implementation of various \\nschemes announced in the interim budget are well underway. The required \\nallocations have been made.   \\nBudget Theme  \\n6. Turning attention to the full year and beyond, in this budget, we \\nparticularly focus on employment, skilling, MSMEs, and the middle class. I am happy to announce the Prime Minister’s package of 5 schemes and initiatives \\nto facilitate employment, skilling and other opportunities for 4.1 crore youth \\nover a 5 -year period with a central outlay of ` 2 lakh crore.  I will speak about \\nthem shortly, while more details may be seen in the annexure.  This year, I have made a provision of ` 1.48 lakh crore for education, employment and \\nskilling.     \\nBudget Priorities  \\n7. The people have given a unique opportunity to  our government to \\ntake the country on the path of strong development and all -round prosperity. \\nIn the interim budget, we promised to present a detailed roadmap for our \\npursuit of ‘ Viksit Bharat’. In line with the strategy set out in the interim \\nbudget, this budget envisages sustained efforts on the following 9 priorities \\nfor generating ample opportunities for all.   \\n1) Productivity and resilience in Agriculture  \\n2) Employment & Skilling  \\n3) Inclusive Human Resource Development and Social Justice  \\n4) Manufacturing & Services  \\n5) Urban Development    \\n6) Energy Security  \\n7) Infrastructure   3  \\n \\n8) Innovation, Research & Development and  \\n9) Next Generation Reforms  \\n8. Subsequent budgets will build on these, and add more priorities and \\nactions. A more detailed formulation will be carried out as part  of the \\n‘economic policy framework’ about which I will speak later in this speech.   \\n9. This budget details some of the specific actions to be initiated in the \\ncurrent year towards fulfilment of these priorities with potential for \\ntransformative changes.  The  budget also covers some of the previously \\nmade announcements with an intent to strengthen them and step up their implementation for expediting our journey towards the goal of Viksit Bharat.   \\nPriority 1: Productivity and resilience in Agriculture  \\nTransfor ming agriculture research  \\n10. Our government will undertake a comprehensive review of the \\nagriculture research setup to bring the focus on raising productivity and \\ndeveloping climate resilient varieties.  Funding will be provided in challenge \\nmode, including to the private sector. Domain experts both from the \\ngovernment and outside will oversee the conduct of such research.   \\nRelease of new varieties  \\n11. New 109 high -yielding and climate -resilient varieties of 32 field and \\nhorticulture crops will be released for cu ltivation by farmers.  \\nNatural Farming  \\n12. In the next two years, 1 crore farmers across the country will be \\ninitiated into natural farming supported by certification and branding. \\nImplementation will be through scientific institutions and willing gram \\npanchay ats. 10,000 need -based bio -input resource centres will be \\nestablished.   \\nMissions for pulses and oilseeds  \\n13. For achieving self -sufficiency in pulses and oilseeds, we will \\nstrengthen their production, storage and marketing. As announced in the \\ninterim budget, a  strategy  is being put in place to achieve ‘atmanirbharta’ for \\noil seeds such as mustard, groundnut, ses ame, soybean, and sunflower.    4  \\n \\nVegetable production & Supply Chains  \\n14. Large scale clusters for vegetable production will be developed closer \\nto major consumption centres. We will promote Farmer- Producer \\nOrganizations, cooperatives and start -ups for vegetable  supply chains \\nincluding for collection, storage, and marketing.  \\nDigital Public Infrastructure for Agriculture  \\n15. Buoyed by the success of the pilot project, our government, in \\npartnership with the states, will facilitate the implementation of the Digital \\nPublic Infrastructure  (DPI) in agriculture for coverage of farmers and their \\nlands in 3 years. During this year, digital crop survey for Kharif using the DPI will be taken up in 400 districts. The details of 6 crore farmers and their lands \\nwill be brought into the farmer and land registries. Further, the issuance of \\nJan Samarth based Kisan Credit Cards will be enabled in 5 states.  \\nShrimp Production & Export  \\n16. Financial support for setting up a network of Nucleus Breeding \\nCentres for Shrimp Brood stocks will be pr ovided. Financing for shrimp \\nfarming, processing and export will be facilitated through NABARD.   \\nNational Cooperation Policy  \\n17. Our government will bring out a National Cooperation Policy for \\nsystematic, orderly and all- round development of the cooperative s ector. \\nFast-tracking growth of rural economy and generation of employment \\nopportunities on a large scale will be the policy goal.  \\n18. This year, I have made a provision of ` 1.52 lakh crore for agriculture \\nand allied sector.     \\nPriority 2: Employment & Skilling  \\nEmployment Linked Incentive  \\n19. Our government will implement following 3 schemes for ‘Employment \\nLinked Incentive’, as part of the Prime Minister’s package. These will be based on enrolment in the EPFO, and focus on recognition of first- time \\nemployees, and  support to employees and employers.     \\n  5  \\n \\nScheme A: First Timers  \\n20. This scheme will provide one -month wage to all persons newly \\nentering the workforce in all formal sectors. The direct benefit transfer of \\none-month salary in 3 instalments to first -time employees, as registered in \\nthe EPFO, will be up to ` 15,000. The eligibility limit will be a salary of  \\n` 1 lakh per month. The scheme is expected to benefit 210 lakh youth.  \\nScheme B: Job Creation in manufacturing  \\n21. This scheme will incentivize additional employment in the \\nmanufacturing sector, linked to the employment of first- time employees. An \\nincentive will be provided at specified scale directly both to the employee \\nand the employer with respect to their EPFO contribution in the first 4 years \\nof employment. The scheme is expected to benefit 30 lakh youth entering \\nemployment, and their employers.  \\nScheme C: Support to employers  \\n22. This employer- focussed scheme will cover additional employment in \\nall sectors. All addi tional employment within a salary of ` 1 lakh per month \\nwill be counted. The government will reimburse to employers up to ` 3,000 \\nper month for 2 years towards their EPFO contribution for each additional \\nemployee. The scheme is expected to incentivize addi tional employment of \\n50 lakh persons.    \\nParticipation of women in the workforce  23. We will facilitate higher participation of women in the workforce \\nthrough setting up of working women hostels in collaboration with industry, \\nand establishing creches. In addition, the partnership will seek to organize \\nwomen- specific skilling programmes, and promotion of market access for \\nwomen SHG enterprises.  \\nSkilling programme  \\n24. I am happy to announce a new centrally sponsored scheme, as the 4\\nth \\nscheme under the Prime Minister’s package, for skilling in collaboration with \\nstate governments and Industry. 20 lakh youth will be skilled over a 5 -year \\nperiod. 1,000 Industrial Training Institutes will be upgraded in hub and spoke \\narrangements with outcome orientation.  Course co ntent and design will be  6  \\n \\naligned to the skill needs of industry, and new courses will be introduced for \\nemerging needs.  \\nSkilling Loans  \\n25. The Model Skill Loan Scheme will be revised to facilitate loans up to  \\n` 7.5 lakh with a guarantee from a government promoted Fund. This measure \\nis expected to help 25,000 students every year.  \\nEducation Loans  \\n26. For helping our youth who have not been eligible for any benefit \\nunder government schemes and policies, I am happy to announce a financial support for loans upto ` 10 lakh for higher education in domestic institutions. \\nE-vouchers for this purpose will be given directly to 1 lakh students every \\nyear for annual interest subvention of 3 per cent of the loan amount.   \\nPriority 3: Inclusive Human Resource Development and Social Justice  \\nSaturation approach  \\n27. Our government is committed to all- round, all- pervasive and all-\\ninclusive development of people, particularly, farmers, youth, women and \\npoor. For achieving social justice comprehensively, the saturation approach \\nof covering  all eligible people through various programmes including those \\nfor education and health will be adopted to empower them by improving their capabilities.  \\n28. Implementation of schemes meant for supporting economic activities \\nby craftsmen, artisans, self -help groups, scheduled caste, schedule tribe and \\nwomen entrepreneurs, and street vendors, such as PM Vishwakarma, PM \\nSVANidhi,  National Livelihood Missions, and Stand- Up India will be stepped \\nup. \\nPurvodaya  \\n29. The states in the Eastern part of the country are rich in endowments \\nand have strong cultural traditions. We will formulate a plan, Purvodaya, for \\nthe all -round development of the eastern region of the country covering \\nBihar, Jharkhand, West Bengal, Odisha and Andhra Pradesh.  This will cover  7  \\n \\nhuman resource development, infrastructure, and generation of economic \\nopportunities to make the region an engine to attain Viksit Bharat.  \\n30. On the Amritsar Kolkata Industrial Corridor, we will support \\ndevelopment of an industrial node at Gaya. This corridor will catalyze \\nindustrial development of the eastern region. The industrial node at Gaya will \\nalso be a good model for developing our ancient centres of cultural \\nimportance into future centres of modern economy. This model shall \\nshowcase “Vikas bhi Virasat bhi” in our growth trajectory.  \\n31. We will also support development of road connectivity projects, \\nnamely (1) Patna- Purnea Expressway, (2) Buxar -Bhagalpur Expressway, (3) \\nBodhgaya, Rajgir, Vaishali and Darbhanga spurs, and (4) additional 2 -lane \\nbridge over river G anga at Buxar at a total cost of ` 26,000 crore . Power \\nprojects, including setting up of a new 2400 MW power plant at Pirpainti, will \\nbe taken up at a cost of ` 21,400 crore .  New airports, medical colleges and \\nsports infrastructure in Bihar will be constr ucted.   \\n32. An additional allocation to support capital investments will be \\nprovided. The requests of Bihar Government for external assistance from multilateral development banks will be expedited.  \\nAndhra Pradesh Reorganization Act  \\n33. Our government has made co ncerted efforts to fulfil the \\ncommitments in the Andhra Pradesh Reorganization Act.  Recognizing the state’s need for a capital, we will facilitate special financial support through \\nmultilateral development agencies. In the current financial year ` 15,000 \\ncrore  will be arranged, with additional amounts in future years.  \\n34. Our government is fully committed to financing and early completion \\nof the Polavaram Irrigation Project, which is the lifeline for Andhra Pradesh and its farmers. This will facilitate our co untry’s food security as well.   \\n35. Under the Act, for promoting industrial development, funds will be \\nprovided for essential infrastructure such as water, power, railways and \\nroads in Kopparthy node on the Vishakhapatnam -Chennai Industrial Corridor \\nand Orvak al node on Hyderabad- Bengaluru Industrial Corridor.  An additional \\nallocation will be provided this year towards capital investment for economic growth.    8  \\n \\n36. Grants for backward regions of Rayalaseema, Prakasam and North \\nCoastal Andhra, as stated in the Act, will also be provided.  \\nPM Awas Yojana  \\n37. Three crore additional houses under the PM Awas Yojana in rural and \\nurban areas in the country have been announced, for which the necessary \\nallocations are being made.   \\nWomen -led development  \\n38. For promoting women -led development, the budget carries an \\nallocation of more than ` 3 lakh crore for schemes benefitting women and \\ngirls. This signals our government’s commitment for enhancing women’s role \\nin economic development.   \\nPradhan Mantri Janjati ya Unnat Gram Abhiyan  \\n39. For improving the socio -economic condition of tribal communities, we \\nwill launch the Pradhan Mantri Janjatiya Unnat Gram Abhiyan by adopting saturation coverage for tribal families in tribal- majority villages and \\naspirational distric ts. This will cover 63,000 villages benefitting 5 crore tribal \\npeople.  \\nBank branches in North -Eastern Region  \\n40. More than 100 branches of India Post Payment Bank will be set up in \\nthe North East region to expand the banking services.  \\n')]"
            ]
          },
          "metadata": {},
          "execution_count": 74
        }
      ]
    },
    {
      "cell_type": "code",
      "source": [
        "graph_documents=llm_transformer.convert_to_graph_documents(documents)"
      ],
      "metadata": {
        "id": "OO8iG0guavib"
      },
      "execution_count": 75,
      "outputs": []
    },
    {
      "cell_type": "code",
      "source": [
        "graph_documents"
      ],
      "metadata": {
        "colab": {
          "base_uri": "https://localhost:8080/"
        },
        "id": "Asq0GnNxcCot",
        "outputId": "f144771a-809b-442a-e1c4-661570a6f9ae"
      },
      "execution_count": 76,
      "outputs": [
        {
          "output_type": "execute_result",
          "data": {
            "text/plain": [
              "[GraphDocument(nodes=[Node(id='Government Of India', type='Person', properties={}), Node(id='Nirmala Sitharaman', type='Person', properties={}), Node(id='Prime Minister Shri Narendra Modi', type='Person', properties={})], relationships=[Relationship(source=Node(id='Government Of India', type='Person', properties={}), target=Node(id='Nirmala Sitharaman', type='Person', properties={}), type='EMPLOYS', properties={}), Relationship(source=Node(id='Nirmala Sitharaman', type='Person', properties={}), target=Node(id='Prime Minister Shri Narendra Modi', type='Person', properties={}), type='MINISTER_OF', properties={})], source=Document(metadata={}, page_content='GOVERNMENT OF INDIA\\nBUDGET 2024-2025\\nSPEECH\\nOF\\nNIRMALA SITHARAMAN\\nMINISTER OF FINANCE\\nJuly 23,  2024 \\nCONTENTS  \\n \\nPART – A \\n Page No.  \\nIntroduction 1 \\nGlobal Context  1 \\nInterim Budget  2 \\nBudget Theme  2 \\nBudget Priorities  2 \\n(i) Productivity and resilience in Agriculture   \\n(ii) Employment & Skilling  \\n(iii) Inclusive Human Resource Development and Social Justice   \\n(iv) Manufacturing & Services  \\n(v) Urban Development   \\n(vi) Energy Security  \\n(vii) Infrastructure  \\n(viii) Innovation, Research & Development  \\n(ix) Next Generation Reforms  \\nBudget Estimates 2024- 25 20 \\n \\n \\nPART – B \\nIndirect taxes  22 \\nDirect Taxes   25 \\n Annexure to Part -A 31 \\nAnnexure to Part -B 36 \\n \\n   \\n \\nBudget 2024 -2025  \\n \\nSpeech of  \\nNirmala Sitharaman  \\nMinister of Finance  \\nJuly 23 , 2024  \\nHon’ble Speaker,  \\n I present the Budget for 2024 -25.  \\nIntroduction \\n1. The people of India have reposed their faith in the government led by \\nthe Hon’ble Prime Minister Shri Narendra Modi and re -elected it for a historic \\nthird term under his leadership. We are grateful for their support, faith and \\ntrust in our policies. We are determined to ensure that all Indians, regardless \\nof religion, caste, gender and age, make substantial progress in realising their life goals and aspirations.  \\nGlobal Context  \\n2. The global economy, while performing better than expected, is still in \\nthe grip of policy uncertainties. Elevated asset prices, political uncertainties and shipping disruptions continue to pose significant downside risks for \\ngrowth and upside risks to inflation.  \\n3. In this context, India’s economic growth  continues  to be the shining \\nexception and will remain so in the years ahead. India’s inflation continues to be low, stable and moving towards the 4 per cent target. Core inflation (non-\\nfood, non -fuel) currently is 3.1 per cent. Steps are being taken to ensure \\nsuppl ies of perishable goods reach market adequately.   2  \\n \\nInterim Budget  \\n4. As mentioned in the interim budget, we need to focus on 4 major \\ncastes, namely  ‘Garib’ (Poor), ‘Mahilayen’ (Women), ‘Yuva’ (Youth) and  \\n‘Annadata’ (Farmer). For Annadata, we announced higher Minimum Support \\nPrices a month ago for all major crops, delivering on the promise of at least a \\n50 per cent margin over costs.  Pradhan Mantri Garib Kalyan Anna Yojana was \\nextended for five years, benefitting more than 80 crore people.  \\n5. Administrative actio ns for approval and implementation of various \\nschemes announced in the interim budget are well underway. The required \\nallocations have been made.   \\nBudget Theme  \\n6. Turning attention to the full year and beyond, in this budget, we \\nparticularly focus on employment, skilling, MSMEs, and the middle class. I am happy to announce the Prime Minister’s package of 5 schemes and initiatives \\nto facilitate employment, skilling and other opportunities for 4.1 crore youth \\nover a 5 -year period with a central outlay of ` 2 lakh crore.  I will speak about \\nthem shortly, while more details may be seen in the annexure.  This year, I have made a provision of ` 1.48 lakh crore for education, employment and \\nskilling.     \\nBudget Priorities  \\n7. The people have given a unique opportunity to  our government to \\ntake the country on the path of strong development and all -round prosperity. \\nIn the interim budget, we promised to present a detailed roadmap for our \\npursuit of ‘ Viksit Bharat’. In line with the strategy set out in the interim \\nbudget, this budget envisages sustained efforts on the following 9 priorities \\nfor generating ample opportunities for all.   \\n1) Productivity and resilience in Agriculture  \\n2) Employment & Skilling  \\n3) Inclusive Human Resource Development and Social Justice  \\n4) Manufacturing & Services  \\n5) Urban Development    \\n6) Energy Security  \\n7) Infrastructure   3  \\n \\n8) Innovation, Research & Development and  \\n9) Next Generation Reforms  \\n8. Subsequent budgets will build on these, and add more priorities and \\nactions. A more detailed formulation will be carried out as part  of the \\n‘economic policy framework’ about which I will speak later in this speech.   \\n9. This budget details some of the specific actions to be initiated in the \\ncurrent year towards fulfilment of these priorities with potential for \\ntransformative changes.  The  budget also covers some of the previously \\nmade announcements with an intent to strengthen them and step up their implementation for expediting our journey towards the goal of Viksit Bharat.   \\nPriority 1: Productivity and resilience in Agriculture  \\nTransfor ming agriculture research  \\n10. Our government will undertake a comprehensive review of the \\nagriculture research setup to bring the focus on raising productivity and \\ndeveloping climate resilient varieties.  Funding will be provided in challenge \\nmode, including to the private sector. Domain experts both from the \\ngovernment and outside will oversee the conduct of such research.   \\nRelease of new varieties  \\n11. New 109 high -yielding and climate -resilient varieties of 32 field and \\nhorticulture crops will be released for cu ltivation by farmers.  \\nNatural Farming  \\n12. In the next two years, 1 crore farmers across the country will be \\ninitiated into natural farming supported by certification and branding. \\nImplementation will be through scientific institutions and willing gram \\npanchay ats. 10,000 need -based bio -input resource centres will be \\nestablished.   \\nMissions for pulses and oilseeds  \\n13. For achieving self -sufficiency in pulses and oilseeds, we will \\nstrengthen their production, storage and marketing. As announced in the \\ninterim budget, a  strategy  is being put in place to achieve ‘atmanirbharta’ for \\noil seeds such as mustard, groundnut, ses ame, soybean, and sunflower.    4  \\n \\nVegetable production & Supply Chains  \\n14. Large scale clusters for vegetable production will be developed closer \\nto major consumption centres. We will promote Farmer- Producer \\nOrganizations, cooperatives and start -ups for vegetable  supply chains \\nincluding for collection, storage, and marketing.  \\nDigital Public Infrastructure for Agriculture  \\n15. Buoyed by the success of the pilot project, our government, in \\npartnership with the states, will facilitate the implementation of the Digital \\nPublic Infrastructure  (DPI) in agriculture for coverage of farmers and their \\nlands in 3 years. During this year, digital crop survey for Kharif using the DPI will be taken up in 400 districts. The details of 6 crore farmers and their lands \\nwill be brought into the farmer and land registries. Further, the issuance of \\nJan Samarth based Kisan Credit Cards will be enabled in 5 states.  \\nShrimp Production & Export  \\n16. Financial support for setting up a network of Nucleus Breeding \\nCentres for Shrimp Brood stocks will be pr ovided. Financing for shrimp \\nfarming, processing and export will be facilitated through NABARD.   \\nNational Cooperation Policy  \\n17. Our government will bring out a National Cooperation Policy for \\nsystematic, orderly and all- round development of the cooperative s ector. \\nFast-tracking growth of rural economy and generation of employment \\nopportunities on a large scale will be the policy goal.  \\n18. This year, I have made a provision of ` 1.52 lakh crore for agriculture \\nand allied sector.     \\nPriority 2: Employment & Skilling  \\nEmployment Linked Incentive  \\n19. Our government will implement following 3 schemes for ‘Employment \\nLinked Incentive’, as part of the Prime Minister’s package. These will be based on enrolment in the EPFO, and focus on recognition of first- time \\nemployees, and  support to employees and employers.     \\n  5  \\n \\nScheme A: First Timers  \\n20. This scheme will provide one -month wage to all persons newly \\nentering the workforce in all formal sectors. The direct benefit transfer of \\none-month salary in 3 instalments to first -time employees, as registered in \\nthe EPFO, will be up to ` 15,000. The eligibility limit will be a salary of  \\n` 1 lakh per month. The scheme is expected to benefit 210 lakh youth.  \\nScheme B: Job Creation in manufacturing  \\n21. This scheme will incentivize additional employment in the \\nmanufacturing sector, linked to the employment of first- time employees. An \\nincentive will be provided at specified scale directly both to the employee \\nand the employer with respect to their EPFO contribution in the first 4 years \\nof employment. The scheme is expected to benefit 30 lakh youth entering \\nemployment, and their employers.  \\nScheme C: Support to employers  \\n22. This employer- focussed scheme will cover additional employment in \\nall sectors. All addi tional employment within a salary of ` 1 lakh per month \\nwill be counted. The government will reimburse to employers up to ` 3,000 \\nper month for 2 years towards their EPFO contribution for each additional \\nemployee. The scheme is expected to incentivize addi tional employment of \\n50 lakh persons.    \\nParticipation of women in the workforce  23. We will facilitate higher participation of women in the workforce \\nthrough setting up of working women hostels in collaboration with industry, \\nand establishing creches. In addition, the partnership will seek to organize \\nwomen- specific skilling programmes, and promotion of market access for \\nwomen SHG enterprises.  \\nSkilling programme  \\n24. I am happy to announce a new centrally sponsored scheme, as the 4\\nth \\nscheme under the Prime Minister’s package, for skilling in collaboration with \\nstate governments and Industry. 20 lakh youth will be skilled over a 5 -year \\nperiod. 1,000 Industrial Training Institutes will be upgraded in hub and spoke \\narrangements with outcome orientation.  Course co ntent and design will be  6  \\n \\naligned to the skill needs of industry, and new courses will be introduced for \\nemerging needs.  \\nSkilling Loans  \\n25. The Model Skill Loan Scheme will be revised to facilitate loans up to  \\n` 7.5 lakh with a guarantee from a government promoted Fund. This measure \\nis expected to help 25,000 students every year.  \\nEducation Loans  \\n26. For helping our youth who have not been eligible for any benefit \\nunder government schemes and policies, I am happy to announce a financial support for loans upto ` 10 lakh for higher education in domestic institutions. \\nE-vouchers for this purpose will be given directly to 1 lakh students every \\nyear for annual interest subvention of 3 per cent of the loan amount.   \\nPriority 3: Inclusive Human Resource Development and Social Justice  \\nSaturation approach  \\n27. Our government is committed to all- round, all- pervasive and all-\\ninclusive development of people, particularly, farmers, youth, women and \\npoor. For achieving social justice comprehensively, the saturation approach \\nof covering  all eligible people through various programmes including those \\nfor education and health will be adopted to empower them by improving their capabilities.  \\n28. Implementation of schemes meant for supporting economic activities \\nby craftsmen, artisans, self -help groups, scheduled caste, schedule tribe and \\nwomen entrepreneurs, and street vendors, such as PM Vishwakarma, PM \\nSVANidhi,  National Livelihood Missions, and Stand- Up India will be stepped \\nup. \\nPurvodaya  \\n29. The states in the Eastern part of the country are rich in endowments \\nand have strong cultural traditions. We will formulate a plan, Purvodaya, for \\nthe all -round development of the eastern region of the country covering \\nBihar, Jharkhand, West Bengal, Odisha and Andhra Pradesh.  This will cover  7  \\n \\nhuman resource development, infrastructure, and generation of economic \\nopportunities to make the region an engine to attain Viksit Bharat.  \\n30. On the Amritsar Kolkata Industrial Corridor, we will support \\ndevelopment of an industrial node at Gaya. This corridor will catalyze \\nindustrial development of the eastern region. The industrial node at Gaya will \\nalso be a good model for developing our ancient centres of cultural \\nimportance into future centres of modern economy. This model shall \\nshowcase “Vikas bhi Virasat bhi” in our growth trajectory.  \\n31. We will also support development of road connectivity projects, \\nnamely (1) Patna- Purnea Expressway, (2) Buxar -Bhagalpur Expressway, (3) \\nBodhgaya, Rajgir, Vaishali and Darbhanga spurs, and (4) additional 2 -lane \\nbridge over river G anga at Buxar at a total cost of ` 26,000 crore . Power \\nprojects, including setting up of a new 2400 MW power plant at Pirpainti, will \\nbe taken up at a cost of ` 21,400 crore .  New airports, medical colleges and \\nsports infrastructure in Bihar will be constr ucted.   \\n32. An additional allocation to support capital investments will be \\nprovided. The requests of Bihar Government for external assistance from multilateral development banks will be expedited.  \\nAndhra Pradesh Reorganization Act  \\n33. Our government has made co ncerted efforts to fulfil the \\ncommitments in the Andhra Pradesh Reorganization Act.  Recognizing the state’s need for a capital, we will facilitate special financial support through \\nmultilateral development agencies. In the current financial year ` 15,000 \\ncrore  will be arranged, with additional amounts in future years.  \\n34. Our government is fully committed to financing and early completion \\nof the Polavaram Irrigation Project, which is the lifeline for Andhra Pradesh and its farmers. This will facilitate our co untry’s food security as well.   \\n35. Under the Act, for promoting industrial development, funds will be \\nprovided for essential infrastructure such as water, power, railways and \\nroads in Kopparthy node on the Vishakhapatnam -Chennai Industrial Corridor \\nand Orvak al node on Hyderabad- Bengaluru Industrial Corridor.  An additional \\nallocation will be provided this year towards capital investment for economic growth.    8  \\n \\n36. Grants for backward regions of Rayalaseema, Prakasam and North \\nCoastal Andhra, as stated in the Act, will also be provided.  \\nPM Awas Yojana  \\n37. Three crore additional houses under the PM Awas Yojana in rural and \\nurban areas in the country have been announced, for which the necessary \\nallocations are being made.   \\nWomen -led development  \\n38. For promoting women -led development, the budget carries an \\nallocation of more than ` 3 lakh crore for schemes benefitting women and \\ngirls. This signals our government’s commitment for enhancing women’s role \\nin economic development.   \\nPradhan Mantri Janjati ya Unnat Gram Abhiyan  \\n39. For improving the socio -economic condition of tribal communities, we \\nwill launch the Pradhan Mantri Janjatiya Unnat Gram Abhiyan by adopting saturation coverage for tribal families in tribal- majority villages and \\naspirational distric ts. This will cover 63,000 villages benefitting 5 crore tribal \\npeople.  \\nBank branches in North -Eastern Region  \\n40. More than 100 branches of India Post Payment Bank will be set up in \\nthe North East region to expand the banking services.  \\n'))]"
            ]
          },
          "metadata": {},
          "execution_count": 76
        }
      ]
    },
    {
      "cell_type": "code",
      "source": [
        "graph_documents[0].nodes"
      ],
      "metadata": {
        "colab": {
          "base_uri": "https://localhost:8080/"
        },
        "id": "27JaSb0wcHz4",
        "outputId": "fa025906-0865-40b1-b9f3-c60139562ea4"
      },
      "execution_count": 77,
      "outputs": [
        {
          "output_type": "execute_result",
          "data": {
            "text/plain": [
              "[Node(id='Government Of India', type='Person', properties={}),\n",
              " Node(id='Nirmala Sitharaman', type='Person', properties={}),\n",
              " Node(id='Prime Minister Shri Narendra Modi', type='Person', properties={})]"
            ]
          },
          "metadata": {},
          "execution_count": 77
        }
      ]
    },
    {
      "cell_type": "code",
      "source": [
        "graph_documents[0].relationships"
      ],
      "metadata": {
        "colab": {
          "base_uri": "https://localhost:8080/"
        },
        "id": "JJS9pnnhcNpt",
        "outputId": "63fb29af-3024-4448-b871-1fb5d6505734"
      },
      "execution_count": 78,
      "outputs": [
        {
          "output_type": "execute_result",
          "data": {
            "text/plain": [
              "[Relationship(source=Node(id='Government Of India', type='Person', properties={}), target=Node(id='Nirmala Sitharaman', type='Person', properties={}), type='EMPLOYS', properties={}),\n",
              " Relationship(source=Node(id='Nirmala Sitharaman', type='Person', properties={}), target=Node(id='Prime Minister Shri Narendra Modi', type='Person', properties={}), type='MINISTER_OF', properties={})]"
            ]
          },
          "metadata": {},
          "execution_count": 78
        }
      ]
    },
    {
      "cell_type": "code",
      "source": [
        "uri = \"neo4j+s://a32f6503.databases.neo4j.io\"\n",
        "username = \"neo4j\"\n",
        "password = \"WY9nFQiwgXX__z5MNnrPgWmXBjX_lmQsecuuz6M3HVo\""
      ],
      "metadata": {
        "id": "EylbgXksjKAC"
      },
      "execution_count": 84,
      "outputs": []
    },
    {
      "cell_type": "code",
      "source": [
        "from neo4j import GraphDatabase\n",
        "driver = GraphDatabase.driver(uri, auth=(username, password))"
      ],
      "metadata": {
        "id": "3AtcO9YviMPo"
      },
      "execution_count": 86,
      "outputs": []
    },
    {
      "cell_type": "code",
      "source": [
        "def query_neo4j(driver, query):\n",
        "    with driver.session() as session:\n",
        "        # Run the Cypher query\n",
        "        result = session.run(query)\n",
        "        return [record for record in result]\n",
        "\n",
        "# Example input query\n",
        "user_query = \"MATCH (n:'Nirmala Sitharaman')-[:WORKS_FOR]->(o:Organization)RETURN o.name AS Employer\"\n",
        "response = query_neo4j(driver, user_query)\n",
        "print(response)\n"
      ],
      "metadata": {
        "colab": {
          "base_uri": "https://localhost:8080/",
          "height": 460
        },
        "id": "12hJelpqeaQo",
        "outputId": "b2d3db1b-3d6c-4287-8779-0f3e94f8cadf"
      },
      "execution_count": 91,
      "outputs": [
        {
          "output_type": "error",
          "ename": "CypherSyntaxError",
          "evalue": "{code: Neo.ClientError.Statement.SyntaxError} {message: Invalid input ''Nirmala Sitharaman'': expected a node label/relationship type name, '%' or '(' (line 1, column 10 (offset: 9))\n\"MATCH (n:'Nirmala Sitharaman')-[:WORKS_FOR]->(o:Organization)RETURN o.name AS Employer\"\n          ^}",
          "traceback": [
            "\u001b[0;31m---------------------------------------------------------------------------\u001b[0m",
            "\u001b[0;31mCypherSyntaxError\u001b[0m                         Traceback (most recent call last)",
            "\u001b[0;32m<ipython-input-91-4a96f0ed6eb5>\u001b[0m in \u001b[0;36m<cell line: 9>\u001b[0;34m()\u001b[0m\n\u001b[1;32m      7\u001b[0m \u001b[0;31m# Example input query\u001b[0m\u001b[0;34m\u001b[0m\u001b[0;34m\u001b[0m\u001b[0m\n\u001b[1;32m      8\u001b[0m \u001b[0muser_query\u001b[0m \u001b[0;34m=\u001b[0m \u001b[0;34m\"MATCH (n:'Nirmala Sitharaman')-[:WORKS_FOR]->(o:Organization)RETURN o.name AS Employer\"\u001b[0m\u001b[0;34m\u001b[0m\u001b[0;34m\u001b[0m\u001b[0m\n\u001b[0;32m----> 9\u001b[0;31m \u001b[0mresponse\u001b[0m \u001b[0;34m=\u001b[0m \u001b[0mquery_neo4j\u001b[0m\u001b[0;34m(\u001b[0m\u001b[0mdriver\u001b[0m\u001b[0;34m,\u001b[0m \u001b[0muser_query\u001b[0m\u001b[0;34m)\u001b[0m\u001b[0;34m\u001b[0m\u001b[0;34m\u001b[0m\u001b[0m\n\u001b[0m\u001b[1;32m     10\u001b[0m \u001b[0mprint\u001b[0m\u001b[0;34m(\u001b[0m\u001b[0mresponse\u001b[0m\u001b[0;34m)\u001b[0m\u001b[0;34m\u001b[0m\u001b[0;34m\u001b[0m\u001b[0m\n",
            "\u001b[0;32m<ipython-input-91-4a96f0ed6eb5>\u001b[0m in \u001b[0;36mquery_neo4j\u001b[0;34m(driver, query)\u001b[0m\n\u001b[1;32m      2\u001b[0m     \u001b[0;32mwith\u001b[0m \u001b[0mdriver\u001b[0m\u001b[0;34m.\u001b[0m\u001b[0msession\u001b[0m\u001b[0;34m(\u001b[0m\u001b[0;34m)\u001b[0m \u001b[0;32mas\u001b[0m \u001b[0msession\u001b[0m\u001b[0;34m:\u001b[0m\u001b[0;34m\u001b[0m\u001b[0;34m\u001b[0m\u001b[0m\n\u001b[1;32m      3\u001b[0m         \u001b[0;31m# Run the Cypher query\u001b[0m\u001b[0;34m\u001b[0m\u001b[0;34m\u001b[0m\u001b[0m\n\u001b[0;32m----> 4\u001b[0;31m         \u001b[0mresult\u001b[0m \u001b[0;34m=\u001b[0m \u001b[0msession\u001b[0m\u001b[0;34m.\u001b[0m\u001b[0mrun\u001b[0m\u001b[0;34m(\u001b[0m\u001b[0mquery\u001b[0m\u001b[0;34m)\u001b[0m\u001b[0;34m\u001b[0m\u001b[0;34m\u001b[0m\u001b[0m\n\u001b[0m\u001b[1;32m      5\u001b[0m         \u001b[0;32mreturn\u001b[0m \u001b[0;34m[\u001b[0m\u001b[0mrecord\u001b[0m \u001b[0;32mfor\u001b[0m \u001b[0mrecord\u001b[0m \u001b[0;32min\u001b[0m \u001b[0mresult\u001b[0m\u001b[0;34m]\u001b[0m\u001b[0;34m\u001b[0m\u001b[0;34m\u001b[0m\u001b[0m\n\u001b[1;32m      6\u001b[0m \u001b[0;34m\u001b[0m\u001b[0m\n",
            "\u001b[0;32m/usr/local/lib/python3.10/dist-packages/neo4j/_sync/work/session.py\u001b[0m in \u001b[0;36mrun\u001b[0;34m(self, query, parameters, **kwargs)\u001b[0m\n\u001b[1;32m    318\u001b[0m         \u001b[0mbookmarks\u001b[0m \u001b[0;34m=\u001b[0m \u001b[0mself\u001b[0m\u001b[0;34m.\u001b[0m\u001b[0m_get_bookmarks\u001b[0m\u001b[0;34m(\u001b[0m\u001b[0;34m)\u001b[0m\u001b[0;34m\u001b[0m\u001b[0;34m\u001b[0m\u001b[0m\n\u001b[1;32m    319\u001b[0m         \u001b[0mparameters\u001b[0m \u001b[0;34m=\u001b[0m \u001b[0mdict\u001b[0m\u001b[0;34m(\u001b[0m\u001b[0mparameters\u001b[0m \u001b[0;32mor\u001b[0m \u001b[0;34m{\u001b[0m\u001b[0;34m}\u001b[0m\u001b[0;34m,\u001b[0m \u001b[0;34m**\u001b[0m\u001b[0mkwargs\u001b[0m\u001b[0;34m)\u001b[0m\u001b[0;34m\u001b[0m\u001b[0;34m\u001b[0m\u001b[0m\n\u001b[0;32m--> 320\u001b[0;31m         self._auto_result._run(\n\u001b[0m\u001b[1;32m    321\u001b[0m             \u001b[0mquery\u001b[0m\u001b[0;34m,\u001b[0m\u001b[0;34m\u001b[0m\u001b[0;34m\u001b[0m\u001b[0m\n\u001b[1;32m    322\u001b[0m             \u001b[0mparameters\u001b[0m\u001b[0;34m,\u001b[0m\u001b[0;34m\u001b[0m\u001b[0;34m\u001b[0m\u001b[0m\n",
            "\u001b[0;32m/usr/local/lib/python3.10/dist-packages/neo4j/_sync/work/result.py\u001b[0m in \u001b[0;36m_run\u001b[0;34m(self, query, parameters, db, imp_user, access_mode, bookmarks, notifications_min_severity, notifications_disabled_classifications)\u001b[0m\n\u001b[1;32m    229\u001b[0m         \u001b[0mself\u001b[0m\u001b[0;34m.\u001b[0m\u001b[0m_pull\u001b[0m\u001b[0;34m(\u001b[0m\u001b[0;34m)\u001b[0m\u001b[0;34m\u001b[0m\u001b[0;34m\u001b[0m\u001b[0m\n\u001b[1;32m    230\u001b[0m         \u001b[0mself\u001b[0m\u001b[0;34m.\u001b[0m\u001b[0m_connection\u001b[0m\u001b[0;34m.\u001b[0m\u001b[0msend_all\u001b[0m\u001b[0;34m(\u001b[0m\u001b[0;34m)\u001b[0m\u001b[0;34m\u001b[0m\u001b[0;34m\u001b[0m\u001b[0m\n\u001b[0;32m--> 231\u001b[0;31m         \u001b[0mself\u001b[0m\u001b[0;34m.\u001b[0m\u001b[0m_attach\u001b[0m\u001b[0;34m(\u001b[0m\u001b[0;34m)\u001b[0m\u001b[0;34m\u001b[0m\u001b[0;34m\u001b[0m\u001b[0m\n\u001b[0m\u001b[1;32m    232\u001b[0m \u001b[0;34m\u001b[0m\u001b[0m\n\u001b[1;32m    233\u001b[0m     \u001b[0;32mdef\u001b[0m \u001b[0m_pull\u001b[0m\u001b[0;34m(\u001b[0m\u001b[0mself\u001b[0m\u001b[0;34m)\u001b[0m\u001b[0;34m:\u001b[0m\u001b[0;34m\u001b[0m\u001b[0;34m\u001b[0m\u001b[0m\n",
            "\u001b[0;32m/usr/local/lib/python3.10/dist-packages/neo4j/_sync/work/result.py\u001b[0m in \u001b[0;36m_attach\u001b[0;34m(self)\u001b[0m\n\u001b[1;32m    423\u001b[0m         \u001b[0;32mif\u001b[0m \u001b[0mself\u001b[0m\u001b[0;34m.\u001b[0m\u001b[0m_exhausted\u001b[0m \u001b[0;32mis\u001b[0m \u001b[0;32mFalse\u001b[0m\u001b[0;34m:\u001b[0m\u001b[0;34m\u001b[0m\u001b[0;34m\u001b[0m\u001b[0m\n\u001b[1;32m    424\u001b[0m             \u001b[0;32mwhile\u001b[0m \u001b[0mself\u001b[0m\u001b[0;34m.\u001b[0m\u001b[0m_attached\u001b[0m \u001b[0;32mis\u001b[0m \u001b[0;32mFalse\u001b[0m\u001b[0;34m:\u001b[0m\u001b[0;34m\u001b[0m\u001b[0;34m\u001b[0m\u001b[0m\n\u001b[0;32m--> 425\u001b[0;31m                 \u001b[0mself\u001b[0m\u001b[0;34m.\u001b[0m\u001b[0m_connection\u001b[0m\u001b[0;34m.\u001b[0m\u001b[0mfetch_message\u001b[0m\u001b[0;34m(\u001b[0m\u001b[0;34m)\u001b[0m\u001b[0;34m\u001b[0m\u001b[0;34m\u001b[0m\u001b[0m\n\u001b[0m\u001b[1;32m    426\u001b[0m \u001b[0;34m\u001b[0m\u001b[0m\n\u001b[1;32m    427\u001b[0m     \u001b[0;32mdef\u001b[0m \u001b[0m_buffer\u001b[0m\u001b[0;34m(\u001b[0m\u001b[0mself\u001b[0m\u001b[0;34m,\u001b[0m \u001b[0mn\u001b[0m\u001b[0;34m=\u001b[0m\u001b[0;32mNone\u001b[0m\u001b[0;34m)\u001b[0m\u001b[0;34m:\u001b[0m\u001b[0;34m\u001b[0m\u001b[0;34m\u001b[0m\u001b[0m\n",
            "\u001b[0;32m/usr/local/lib/python3.10/dist-packages/neo4j/_sync/io/_common.py\u001b[0m in \u001b[0;36minner\u001b[0;34m(*args, **kwargs)\u001b[0m\n\u001b[1;32m    179\u001b[0m             \u001b[0;32mdef\u001b[0m \u001b[0minner\u001b[0m\u001b[0;34m(\u001b[0m\u001b[0;34m*\u001b[0m\u001b[0margs\u001b[0m\u001b[0;34m,\u001b[0m \u001b[0;34m**\u001b[0m\u001b[0mkwargs\u001b[0m\u001b[0;34m)\u001b[0m\u001b[0;34m:\u001b[0m\u001b[0;34m\u001b[0m\u001b[0;34m\u001b[0m\u001b[0m\n\u001b[1;32m    180\u001b[0m                 \u001b[0;32mtry\u001b[0m\u001b[0;34m:\u001b[0m\u001b[0;34m\u001b[0m\u001b[0;34m\u001b[0m\u001b[0m\n\u001b[0;32m--> 181\u001b[0;31m                     \u001b[0mfunc\u001b[0m\u001b[0;34m(\u001b[0m\u001b[0;34m*\u001b[0m\u001b[0margs\u001b[0m\u001b[0;34m,\u001b[0m \u001b[0;34m**\u001b[0m\u001b[0mkwargs\u001b[0m\u001b[0;34m)\u001b[0m\u001b[0;34m\u001b[0m\u001b[0;34m\u001b[0m\u001b[0m\n\u001b[0m\u001b[1;32m    182\u001b[0m                 \u001b[0;32mexcept\u001b[0m \u001b[0;34m(\u001b[0m\u001b[0mNeo4jError\u001b[0m\u001b[0;34m,\u001b[0m \u001b[0mServiceUnavailable\u001b[0m\u001b[0;34m,\u001b[0m \u001b[0mSessionExpired\u001b[0m\u001b[0;34m)\u001b[0m \u001b[0;32mas\u001b[0m \u001b[0mexc\u001b[0m\u001b[0;34m:\u001b[0m\u001b[0;34m\u001b[0m\u001b[0;34m\u001b[0m\u001b[0m\n\u001b[1;32m    183\u001b[0m                     \u001b[0;32massert\u001b[0m \u001b[0;32mnot\u001b[0m \u001b[0masyncio\u001b[0m\u001b[0;34m.\u001b[0m\u001b[0miscoroutinefunction\u001b[0m\u001b[0;34m(\u001b[0m\u001b[0mself\u001b[0m\u001b[0;34m.\u001b[0m\u001b[0m__on_error\u001b[0m\u001b[0;34m)\u001b[0m\u001b[0;34m\u001b[0m\u001b[0;34m\u001b[0m\u001b[0m\n",
            "\u001b[0;32m/usr/local/lib/python3.10/dist-packages/neo4j/_sync/io/_bolt.py\u001b[0m in \u001b[0;36mfetch_message\u001b[0;34m(self)\u001b[0m\n\u001b[1;32m    975\u001b[0m             \u001b[0mhydration_hooks\u001b[0m\u001b[0;34m=\u001b[0m\u001b[0mself\u001b[0m\u001b[0;34m.\u001b[0m\u001b[0mresponses\u001b[0m\u001b[0;34m[\u001b[0m\u001b[0;36m0\u001b[0m\u001b[0;34m]\u001b[0m\u001b[0;34m.\u001b[0m\u001b[0mhydration_hooks\u001b[0m\u001b[0;34m\u001b[0m\u001b[0;34m\u001b[0m\u001b[0m\n\u001b[1;32m    976\u001b[0m         )\n\u001b[0;32m--> 977\u001b[0;31m         \u001b[0mres\u001b[0m \u001b[0;34m=\u001b[0m \u001b[0mself\u001b[0m\u001b[0;34m.\u001b[0m\u001b[0m_process_message\u001b[0m\u001b[0;34m(\u001b[0m\u001b[0mtag\u001b[0m\u001b[0;34m,\u001b[0m \u001b[0mfields\u001b[0m\u001b[0;34m)\u001b[0m\u001b[0;34m\u001b[0m\u001b[0;34m\u001b[0m\u001b[0m\n\u001b[0m\u001b[1;32m    978\u001b[0m         \u001b[0mself\u001b[0m\u001b[0;34m.\u001b[0m\u001b[0midle_since\u001b[0m \u001b[0;34m=\u001b[0m \u001b[0mmonotonic\u001b[0m\u001b[0;34m(\u001b[0m\u001b[0;34m)\u001b[0m\u001b[0;34m\u001b[0m\u001b[0;34m\u001b[0m\u001b[0m\n\u001b[1;32m    979\u001b[0m         \u001b[0;32mreturn\u001b[0m \u001b[0mres\u001b[0m\u001b[0;34m\u001b[0m\u001b[0;34m\u001b[0m\u001b[0m\n",
            "\u001b[0;32m/usr/local/lib/python3.10/dist-packages/neo4j/_sync/io/_bolt5.py\u001b[0m in \u001b[0;36m_process_message\u001b[0;34m(self, tag, fields)\u001b[0m\n\u001b[1;32m    464\u001b[0m             \u001b[0mself\u001b[0m\u001b[0;34m.\u001b[0m\u001b[0m_server_state_manager\u001b[0m\u001b[0;34m.\u001b[0m\u001b[0mstate\u001b[0m \u001b[0;34m=\u001b[0m \u001b[0mself\u001b[0m\u001b[0;34m.\u001b[0m\u001b[0mbolt_states\u001b[0m\u001b[0;34m.\u001b[0m\u001b[0mFAILED\u001b[0m\u001b[0;34m\u001b[0m\u001b[0;34m\u001b[0m\u001b[0m\n\u001b[1;32m    465\u001b[0m             \u001b[0;32mtry\u001b[0m\u001b[0;34m:\u001b[0m\u001b[0;34m\u001b[0m\u001b[0;34m\u001b[0m\u001b[0m\n\u001b[0;32m--> 466\u001b[0;31m                 \u001b[0mresponse\u001b[0m\u001b[0;34m.\u001b[0m\u001b[0mon_failure\u001b[0m\u001b[0;34m(\u001b[0m\u001b[0msummary_metadata\u001b[0m \u001b[0;32mor\u001b[0m \u001b[0;34m{\u001b[0m\u001b[0;34m}\u001b[0m\u001b[0;34m)\u001b[0m\u001b[0;34m\u001b[0m\u001b[0;34m\u001b[0m\u001b[0m\n\u001b[0m\u001b[1;32m    467\u001b[0m             \u001b[0;32mexcept\u001b[0m \u001b[0;34m(\u001b[0m\u001b[0mServiceUnavailable\u001b[0m\u001b[0;34m,\u001b[0m \u001b[0mDatabaseUnavailable\u001b[0m\u001b[0;34m)\u001b[0m\u001b[0;34m:\u001b[0m\u001b[0;34m\u001b[0m\u001b[0;34m\u001b[0m\u001b[0m\n\u001b[1;32m    468\u001b[0m                 \u001b[0;32mif\u001b[0m \u001b[0mself\u001b[0m\u001b[0;34m.\u001b[0m\u001b[0mpool\u001b[0m\u001b[0;34m:\u001b[0m\u001b[0;34m\u001b[0m\u001b[0;34m\u001b[0m\u001b[0m\n",
            "\u001b[0;32m/usr/local/lib/python3.10/dist-packages/neo4j/_sync/io/_common.py\u001b[0m in \u001b[0;36mon_failure\u001b[0;34m(self, metadata)\u001b[0m\n\u001b[1;32m    249\u001b[0m         \u001b[0mhandler\u001b[0m \u001b[0;34m=\u001b[0m \u001b[0mself\u001b[0m\u001b[0;34m.\u001b[0m\u001b[0mhandlers\u001b[0m\u001b[0;34m.\u001b[0m\u001b[0mget\u001b[0m\u001b[0;34m(\u001b[0m\u001b[0;34m\"on_summary\"\u001b[0m\u001b[0;34m)\u001b[0m\u001b[0;34m\u001b[0m\u001b[0;34m\u001b[0m\u001b[0m\n\u001b[1;32m    250\u001b[0m         \u001b[0mUtil\u001b[0m\u001b[0;34m.\u001b[0m\u001b[0mcallback\u001b[0m\u001b[0;34m(\u001b[0m\u001b[0mhandler\u001b[0m\u001b[0;34m)\u001b[0m\u001b[0;34m\u001b[0m\u001b[0;34m\u001b[0m\u001b[0m\n\u001b[0;32m--> 251\u001b[0;31m         \u001b[0;32mraise\u001b[0m \u001b[0mNeo4jError\u001b[0m\u001b[0;34m.\u001b[0m\u001b[0mhydrate\u001b[0m\u001b[0;34m(\u001b[0m\u001b[0;34m**\u001b[0m\u001b[0mmetadata\u001b[0m\u001b[0;34m)\u001b[0m\u001b[0;34m\u001b[0m\u001b[0;34m\u001b[0m\u001b[0m\n\u001b[0m\u001b[1;32m    252\u001b[0m \u001b[0;34m\u001b[0m\u001b[0m\n\u001b[1;32m    253\u001b[0m     \u001b[0;32mdef\u001b[0m \u001b[0mon_ignored\u001b[0m\u001b[0;34m(\u001b[0m\u001b[0mself\u001b[0m\u001b[0;34m,\u001b[0m \u001b[0mmetadata\u001b[0m\u001b[0;34m=\u001b[0m\u001b[0;32mNone\u001b[0m\u001b[0;34m)\u001b[0m\u001b[0;34m:\u001b[0m\u001b[0;34m\u001b[0m\u001b[0;34m\u001b[0m\u001b[0m\n",
            "\u001b[0;31mCypherSyntaxError\u001b[0m: {code: Neo.ClientError.Statement.SyntaxError} {message: Invalid input ''Nirmala Sitharaman'': expected a node label/relationship type name, '%' or '(' (line 1, column 10 (offset: 9))\n\"MATCH (n:'Nirmala Sitharaman')-[:WORKS_FOR]->(o:Organization)RETURN o.name AS Employer\"\n          ^}"
          ]
        }
      ]
    }
  ]
}